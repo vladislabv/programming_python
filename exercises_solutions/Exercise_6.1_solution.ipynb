{
 "cells": [
  {
   "cell_type": "code",
   "execution_count": 2,
   "id": "e8d2aa16",
   "metadata": {},
   "outputs": [],
   "source": [
    "class Vehicle:\n",
    "    def __init__(\n",
    "        self,\n",
    "        owner,\n",
    "        brand,\n",
    "        model,\n",
    "        weight,\n",
    "        mileage,\n",
    "        max_speed\n",
    "    ):\n",
    "        self.owner = owner\n",
    "        self.brand = brand\n",
    "        self.model = model\n",
    "        self.weight = weight\n",
    "        self.mileage = mileage\n",
    "        self.max_speed = max_speed\n",
    "    \n",
    "    def go_by_distance(self, distance):\n",
    "        self.mileage += distance\n",
    "        print(f\"You drove {distance} km and the mileage of your vehicle is now {self.mileage} km.\")\n",
    "        \n",
    "    def change_owner(self, new_owner):\n",
    "        self.owner = new_owner\n",
    "        print(f\"Your vehicle has changed the owner, congratulations to {new_owner}!\")"
   ]
  },
  {
   "cell_type": "code",
   "execution_count": 5,
   "id": "e07ed544",
   "metadata": {},
   "outputs": [],
   "source": [
    "class SchoolBus(Vehicle):\n",
    "    def __init__(self, line_number, current_driver, seating_capacity, **kwargs):\n",
    "        super().__init__(**kwargs)\n",
    "        self.line_number = line_number\n",
    "        self.current_driver = current_driver\n",
    "        self.seating_capacity = seating_capacity\n",
    "        \n",
    "    def change_driver(self, new_driver):\n",
    "        self.current_driver = new_driver\n",
    "        print(f\"The driver was changed to {self.current_driver}!\")\n",
    "        \n",
    "    def change_seating_capacity(self, new_seating_capacity):\n",
    "        self.seating_capacity = new_seating_capacity\n",
    "        print(f\"Seating capacity was changed to {self.seating_capacity}!\")\n",
    "        \n",
    "    def change_line_number(self, new_line_number):\n",
    "        self.line_number = new_line_number\n",
    "        print(f\"Line number was changed to {self.line_number}!\")"
   ]
  },
  {
   "cell_type": "code",
   "execution_count": 6,
   "id": "865fcad5",
   "metadata": {},
   "outputs": [],
   "source": [
    "my_car = Vehicle(\n",
    "    owner = \"Cool Dude\", \n",
    "    brand = \"Ferrari\", \n",
    "    model = \"Best\", \n",
    "    weight = 1500, \n",
    "    mileage = 250, \n",
    "    max_speed = 400\n",
    ")\n",
    "my_school_bus = SchoolBus(\n",
    "    current_driver = \"Mark Zwingel\",\n",
    "    seating_capacity = 25,\n",
    "    owner = \"Other Cool Dude\", \n",
    "    brand = \"Mercedes Benz\", \n",
    "    model = \"Medium\", \n",
    "    weight = 4500, \n",
    "    mileage = 350000,\n",
    "    max_speed = 120,\n",
    "    line_number = 100\n",
    ")"
   ]
  },
  {
   "cell_type": "code",
   "execution_count": 12,
   "id": "cceb3986",
   "metadata": {},
   "outputs": [
    {
     "name": "stdout",
     "output_type": "stream",
     "text": [
      "True\n",
      "True\n"
     ]
    },
    {
     "data": {
      "text/plain": [
       "True"
      ]
     },
     "execution_count": 12,
     "metadata": {},
     "output_type": "execute_result"
    }
   ],
   "source": [
    "print(isinstance(my_school_bus, SchoolBus))\n",
    "print(isinstance(my_school_bus, Vehicle))\n",
    "issubclass(SchoolBus, Vehicle)"
   ]
  },
  {
   "cell_type": "code",
   "execution_count": null,
   "id": "939e1f3e",
   "metadata": {},
   "outputs": [],
   "source": []
  }
 ],
 "metadata": {
  "kernelspec": {
   "display_name": "Python 3 (ipykernel)",
   "language": "python",
   "name": "python3"
  },
  "language_info": {
   "codemirror_mode": {
    "name": "ipython",
    "version": 3
   },
   "file_extension": ".py",
   "mimetype": "text/x-python",
   "name": "python",
   "nbconvert_exporter": "python",
   "pygments_lexer": "ipython3",
   "version": "3.10.6"
  }
 },
 "nbformat": 4,
 "nbformat_minor": 5
}
