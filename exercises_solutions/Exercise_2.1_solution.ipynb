{
 "cells": [
  {
   "cell_type": "code",
   "execution_count": 16,
   "id": "065eb9f6",
   "metadata": {},
   "outputs": [
    {
     "name": "stdout",
     "output_type": "stream",
     "text": [
      "-----Sample 0 -----\n",
      "Result: [0.3333333333333333, 0.3333333333333333, 0.3333333333333333]\n",
      "-------------------\n",
      "\n",
      "-----Sample 1 -----\n",
      "Result: [0.05, 0.18181818181818182, 0.22580645161290322, 0.13333333333333333]\n",
      "-------------------\n",
      "\n",
      "-----Sample 2 -----\n",
      "Result: [0.35714285714285715, 0.1111111111111111, 0.5185185185185185, 0.057692307692307696, 0.15625]\n",
      "-------------------\n",
      "\n"
     ]
    }
   ],
   "source": [
    "# Task 1\n",
    "test_mtrx = [[1,1,1], [2,2,2],[3,3,3]]\n",
    "test_mtrxs = [\n",
    "    [[1,1,1], [2,2,2],[3,3,3]],\n",
    "    [[1,10,7,2], [7,4,8,3],[1,17,7,6],[15,2,9,4]],\n",
    "    [[10,2,8,5,3],[2,5,19,6,13],[9,4,28,4,9],[1,8,19,3,21],[6,9,17,22,10]]\n",
    "]\n",
    "def get_row_quotients(mtrx):\n",
    "    \"\"\"\n",
    "    Function is only usable for square matrices, if not a ValueError will thrown;\n",
    "    Function results in a list holding quotiens along the diagonal from left up to the right down.\n",
    "    \"\"\"\n",
    "    n_rows = len(mtrx)\n",
    "    n_cols = set([len(row) for row in mtrx])\n",
    "    if len(n_cols) > 1:\n",
    "        raise ValueError(\"The number of columns in the given matrix is heterogen.\")\n",
    "    elif n_rows != next(iter(n_cols)):\n",
    "        raise ValueError(\"The given matrix is not a square matrix.\")\n",
    "    else:\n",
    "        result = []\n",
    "        # iterate over rows\n",
    "        for row_idx, row in enumerate(mtrx):\n",
    "            # now over row-element, creating column indices\n",
    "            for col_idx, elem in enumerate(row):\n",
    "                if row_idx == col_idx:\n",
    "                    #print(f\"Quotient {row_idx+1} is {elem}/{sum(row)}\")\n",
    "                    result.append(elem/sum(row))\n",
    "        return result\n",
    "for sample_idx, mtrx in enumerate(test_mtrxs):\n",
    "    print(f\"-----Sample {sample_idx} -----\")\n",
    "    print(f\"Result: {get_row_quotients(mtrx)}\")\n",
    "    print(\"-------------------\\n\")\n",
    "    "
   ]
  },
  {
   "cell_type": "code",
   "execution_count": null,
   "id": "f7be163f",
   "metadata": {},
   "outputs": [],
   "source": []
  }
 ],
 "metadata": {
  "kernelspec": {
   "display_name": "Python 3 (ipykernel)",
   "language": "python",
   "name": "python3"
  },
  "language_info": {
   "codemirror_mode": {
    "name": "ipython",
    "version": 3
   },
   "file_extension": ".py",
   "mimetype": "text/x-python",
   "name": "python",
   "nbconvert_exporter": "python",
   "pygments_lexer": "ipython3",
   "version": "3.10.6"
  }
 },
 "nbformat": 4,
 "nbformat_minor": 5
}
