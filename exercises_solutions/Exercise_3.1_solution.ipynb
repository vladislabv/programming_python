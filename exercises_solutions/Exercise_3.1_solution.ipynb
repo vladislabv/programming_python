{
 "cells": [
  {
   "cell_type": "code",
   "execution_count": null,
   "id": "7f793ceb",
   "metadata": {},
   "outputs": [],
   "source": [
    "# Explain the difference between regular parameters, *args, and **kwargs in functions\n"
   ]
  },
  {
   "cell_type": "code",
   "execution_count": 1,
   "id": "58d245f2",
   "metadata": {},
   "outputs": [],
   "source": [
    "def convert_currencies(b, c, n):\n",
    "    \"\"\"\n",
    "    Input:\n",
    "        - b: Currency name after convertation\n",
    "        - c: Currency rate between initial currency and 'b' currencies, i.e c = 1USD/1EUR, where the initial is USD, b = 'EUR'\n",
    "        - n: Amount of initial currency to be converted\n",
    "    Output:\n",
    "        Amount of currency 'b' after convertation and the target currency name\n",
    "    \"\"\"\n",
    "    return(f\"You get {n*c} {b} after the convertation!\")"
   ]
  },
  {
   "cell_type": "code",
   "execution_count": 2,
   "id": "a920f186",
   "metadata": {},
   "outputs": [
    {
     "name": "stdout",
     "output_type": "stream",
     "text": [
      "You get 101.0 EUR after the convertation!\n"
     ]
    }
   ],
   "source": [
    "conv_result = convert_currencies(b = \"EUR\", c = 1.01, n = 100)\n",
    "print(conv_result)"
   ]
  },
  {
   "cell_type": "code",
   "execution_count": 12,
   "id": "2df08aa0",
   "metadata": {},
   "outputs": [],
   "source": [
    "def calculate_mean(*args):\n",
    "    \"\"\"\n",
    "    Input:\n",
    "        - *args: Numerical values of unspecified length\n",
    "    \n",
    "    Output: average of the given values\n",
    "    \"\"\"\n",
    "    return(sum(args)/len(args))"
   ]
  },
  {
   "cell_type": "code",
   "execution_count": 11,
   "id": "5fabd7cc",
   "metadata": {},
   "outputs": [
    {
     "data": {
      "text/plain": [
       "7.714285714285714"
      ]
     },
     "execution_count": 11,
     "metadata": {},
     "output_type": "execute_result"
    }
   ],
   "source": [
    "print(calculate_mean(2, 4, 5, 8, 0, 12, 23))"
   ]
  },
  {
   "cell_type": "code",
   "execution_count": 15,
   "id": "ec8fed3b",
   "metadata": {},
   "outputs": [],
   "source": [
    "def concat_named_strings(**kwargs):\n",
    "    res_string = ''\n",
    "    for key in kwargs.keys():\n",
    "        res_string += kwargs[key]\n",
    "    return(res_string)"
   ]
  },
  {
   "cell_type": "code",
   "execution_count": 16,
   "id": "a60d060f",
   "metadata": {},
   "outputs": [
    {
     "data": {
      "text/plain": [
       "'blablacarair'"
      ]
     },
     "execution_count": 16,
     "metadata": {},
     "output_type": "execute_result"
    }
   ],
   "source": [
    "print(concat_named_strings(a = 'blabla', b = 'car', c = 'air'))"
   ]
  },
  {
   "cell_type": "code",
   "execution_count": 41,
   "id": "d8b54b33",
   "metadata": {},
   "outputs": [],
   "source": [
    "def get_letter_indices(a, dict_letters):\n",
    "    res_idxs = []\n",
    "    for letter in a:\n",
    "        for k,v in dict_letters.items():\n",
    "            if letter == v:\n",
    "                res_idxs.append(k)\n",
    "    return(res_idxs)"
   ]
  },
  {
   "cell_type": "code",
   "execution_count": 43,
   "id": "b45d29a0",
   "metadata": {},
   "outputs": [
    {
     "name": "stdout",
     "output_type": "stream",
     "text": [
      "[1, 3, 2, 2, 4, 2, 3, 2, 4]\n"
     ]
    }
   ],
   "source": [
    "test_dict = {\n",
    "    1: 'h',\n",
    "    2: 'l',\n",
    "    3: 'e',\n",
    "    4: 'o'\n",
    "}\n",
    "print(get_letter_indices('hellolelo', test_dict))"
   ]
  }
 ],
 "metadata": {
  "kernelspec": {
   "display_name": "Python 3 (ipykernel)",
   "language": "python",
   "name": "python3"
  },
  "language_info": {
   "codemirror_mode": {
    "name": "ipython",
    "version": 3
   },
   "file_extension": ".py",
   "mimetype": "text/x-python",
   "name": "python",
   "nbconvert_exporter": "python",
   "pygments_lexer": "ipython3",
   "version": "3.10.6"
  }
 },
 "nbformat": 4,
 "nbformat_minor": 5
}
