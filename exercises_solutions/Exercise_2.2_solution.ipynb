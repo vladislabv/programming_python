{
 "cells": [
  {
   "cell_type": "code",
   "execution_count": 7,
   "id": "91b66f02",
   "metadata": {},
   "outputs": [],
   "source": [
    "def check_substr_in_list(a, b, s, string_list):\n",
    "    \"\"\"\n",
    "    Input:\n",
    "        - s: a string containing a substring to check\n",
    "        - a: start point (as index) of a substring in string 's' to check\n",
    "        - b: end point (as index) of a substring in string 's' to check\n",
    "        - string_list: list of strings, where a substring should be found\n",
    "        \n",
    "    Warning: with putting 'a' and 'b' consinder Python rules for indexing!\n",
    "    \n",
    "    Output:\n",
    "        - True if any string in a list contains substring, False otherwise\n",
    "    \"\"\"\n",
    "    result = []\n",
    "    substr = s[a:b]\n",
    "    for string in string_list:\n",
    "        result.append(substr in string)\n",
    "    return(True if sum(result) > 0 else False)"
   ]
  },
  {
   "cell_type": "code",
   "execution_count": 8,
   "id": "b8a5fe29",
   "metadata": {},
   "outputs": [
    {
     "name": "stdout",
     "output_type": "stream",
     "text": [
      "True\n"
     ]
    }
   ],
   "source": [
    "string_list = ['car', 'vanish', 'test', 'charity']\n",
    "print(check_substr_in_list(a = 0, b = 2, s = 'arcade', string_list = string_list))"
   ]
  },
  {
   "cell_type": "code",
   "execution_count": 25,
   "id": "9c55869c",
   "metadata": {},
   "outputs": [],
   "source": [
    "def check_substr_in_list_v2(a, b, s, string_list, inverse = False):\n",
    "    \"\"\"\n",
    "    Input:\n",
    "        - s: a string containing a substring to check\n",
    "        - a: start point (as index) of a substring in string 's' to check\n",
    "        - b: end point (as index) of a substring in string 's' to check\n",
    "        - string_list: list of strings, where a substring should be found\n",
    "        - inverse(default False): whether a string to check should NOT INCLUDE a substring in range(a,b)\n",
    "        \n",
    "    Warning: with putting 'a' and 'b' consinder Python rules for indexing!\n",
    "    \n",
    "    Output:\n",
    "        - True if any string in a list contains substring, False otherwise\n",
    "    \"\"\"\n",
    "    result = []\n",
    "    substr = s.replace(s[a:b], '') if inverse else s[a:b]\n",
    "    print(substr)\n",
    "    print(s)\n",
    "    for string in string_list:\n",
    "        result.append(substr in string)\n",
    "    return(True if sum(result) > 0 else False)    "
   ]
  },
  {
   "cell_type": "code",
   "execution_count": 28,
   "id": "31842b1b",
   "metadata": {},
   "outputs": [
    {
     "name": "stdout",
     "output_type": "stream",
     "text": [
      "ca\n",
      "arcade\n",
      "True\n"
     ]
    }
   ],
   "source": [
    "print(check_substr_in_list_v2(a = 2, b = 4, s = 'arcade', string_list = string_list, inverse = False))"
   ]
  },
  {
   "cell_type": "code",
   "execution_count": 39,
   "id": "14d47b9a",
   "metadata": {},
   "outputs": [],
   "source": [
    "def check_ending_starts_string_in_list(s, string_list):\n",
    "    \"\"\"\n",
    "    Input:\n",
    "        - s: a string, which last letter will be used as a substring to check\n",
    "        - string_list: list of strings, where a substring should be found\n",
    "    \n",
    "    Output:\n",
    "        - True if any string in a list starts with the computed substring, False otherwise\n",
    "    \"\"\"\n",
    "    result = []\n",
    "    substr = s[-1]\n",
    "    for string in string_list:\n",
    "        result.append(substr == string[0])\n",
    "    return(True if sum(result) > 0 else False)"
   ]
  },
  {
   "cell_type": "code",
   "execution_count": 40,
   "id": "83fc74c0",
   "metadata": {},
   "outputs": [
    {
     "name": "stdout",
     "output_type": "stream",
     "text": [
      "True\n",
      "False\n"
     ]
    }
   ],
   "source": [
    "string_list = ['air', 'monkey', 'zoo', 'tiger', 'lion']\n",
    "string_list_v2 = ['air', 'monkey', 'zoo', 'whale', 'lion']\n",
    "print(check_ending_starts_string_in_list(s = 'test', string_list = string_list))\n",
    "print(check_ending_starts_string_in_list(s = 'test', string_list = string_list_v2))"
   ]
  },
  {
   "cell_type": "code",
   "execution_count": 41,
   "id": "adcc1beb",
   "metadata": {},
   "outputs": [],
   "source": [
    "def check_concat2str_in_list(string_list):\n",
    "    \"\"\"\n",
    "    Input:\n",
    "        - string_list: list of strings, where following statement should be checked:\n",
    "            any concatenation of two strings (without repeating) can be found in any other list members\n",
    "    \n",
    "    Output:\n",
    "        - True if any string in a list meets the above condition, False otherwise\n",
    "    \"\"\"\n",
    "    result = []\n",
    "    range_elements = list(range(len(string_list)))\n",
    "    for i in range_elements:\n",
    "        for j in range_elements:\n",
    "            if j > i:\n",
    "                concat_str = string_list[i] + string_list[j]\n",
    "                new_lst = [string_list[k] for k in range_elements if k not in [i,j]]\n",
    "                temp_result = check_substr_in_list(a = 0, b = len(concat_str), s = concat_str, string_list = new_lst)\n",
    "                result.append(temp_result)\n",
    "    return(True if sum(result) > 0 else False)"
   ]
  },
  {
   "cell_type": "code",
   "execution_count": 42,
   "id": "1a1b7d9f",
   "metadata": {},
   "outputs": [
    {
     "name": "stdout",
     "output_type": "stream",
     "text": [
      "True\n"
     ]
    }
   ],
   "source": [
    "print(check_concat2str_in_list(['air', 'loss', 'aircar', 'arcade', 'chess', 'car']))"
   ]
  },
  {
   "cell_type": "code",
   "execution_count": null,
   "id": "514f5724",
   "metadata": {},
   "outputs": [],
   "source": []
  }
 ],
 "metadata": {
  "kernelspec": {
   "display_name": "Python 3 (ipykernel)",
   "language": "python",
   "name": "python3"
  },
  "language_info": {
   "codemirror_mode": {
    "name": "ipython",
    "version": 3
   },
   "file_extension": ".py",
   "mimetype": "text/x-python",
   "name": "python",
   "nbconvert_exporter": "python",
   "pygments_lexer": "ipython3",
   "version": "3.10.6"
  }
 },
 "nbformat": 4,
 "nbformat_minor": 5
}
