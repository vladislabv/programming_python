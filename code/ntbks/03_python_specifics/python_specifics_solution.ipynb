{
 "cells": [
  {
   "cell_type": "markdown",
   "metadata": {},
   "source": [
    "# Lambda operator"
   ]
  },
  {
   "cell_type": "markdown",
   "metadata": {},
   "source": [
    "Coming from the paradigm of [functional programing](https://en.wikipedia.org/wiki/Functional_programming) Python makes use of the __lambda operator__. It allows us to define __anonymous functions__ which are functions without a name and which we usually define and assign a name to. This is e.g. useful when we don't want to explicitly define said function because it is only used exactly in this one place.<br> \n",
    "<br>\n",
    "Lambda operators follows this syntax --> __lambda arg_list : expression__.<br>\n",
    "_arg_list_ can be any number of arguments which are evaluated in the _expression_ and the result is then returned.\n",
    "<br>\n",
    "<br>\n",
    "Anonymous functions are especially applicable in combination with the __map__ and __reduce__ functions.\n",
    "<br>\n",
    "<br>\n",
    "Example:"
   ]
  },
  {
   "cell_type": "code",
   "execution_count": 1,
   "metadata": {},
   "outputs": [
    {
     "name": "stdout",
     "output_type": "stream",
     "text": [
      "6\n"
     ]
    }
   ],
   "source": [
    "f = lambda a,b : a-b# a,b is the argument list\n",
    "print (f(7,1))"
   ]
  },
  {
   "cell_type": "markdown",
   "metadata": {},
   "source": [
    "Both __map()__ and __reduce()__ return iterators, which we will be dealing with now."
   ]
  },
  {
   "cell_type": "markdown",
   "metadata": {},
   "source": [
    "# The map function"
   ]
  },
  {
   "cell_type": "markdown",
   "metadata": {},
   "source": [
    "The map function has the following syntax --> _map(function,sequence)_ <br>\n",
    "_function_ is applied to a _sequence_ of elements. It returns a _map_ object, which can be converted into a list.\n",
    "<br>\n",
    "<br>\n",
    "Example:"
   ]
  },
  {
   "cell_type": "code",
   "execution_count": 2,
   "metadata": {},
   "outputs": [
    {
     "name": "stdout",
     "output_type": "stream",
     "text": [
      "[4, 2, 2, 10, 4]\n",
      "[1, 2, 3, 4, 5]\n"
     ]
    }
   ],
   "source": [
    "s1 = ['this', 'is', 'an', 'impression', 'list']\n",
    "s2 = ['a', 'bb', 'ccc', 'dddd', 'eeeee']\n",
    "m1 = map(lambda x: len(x), s1)\n",
    "m2 = map(lambda x,y: len(y), s1,s2)\n",
    "\n",
    "print(list(m1))\n",
    "print(list(m2))"
   ]
  },
  {
   "cell_type": "markdown",
   "metadata": {},
   "source": [
    "In the second example we see that we can pass multiple lists to the lambda operator, however, we also need to have multiple parameters here. Therefore the second example does not make much sense. It improves if we change it a bit:"
   ]
  },
  {
   "cell_type": "code",
   "execution_count": 3,
   "metadata": {},
   "outputs": [
    {
     "name": "stdout",
     "output_type": "stream",
     "text": [
      "[5, 4, 5, 14, 9]\n"
     ]
    }
   ],
   "source": [
    "m3 = map(lambda x,y: len(x+y), s1,s2)\n",
    "\n",
    "print(list(m3))"
   ]
  },
  {
   "cell_type": "markdown",
   "metadata": {},
   "source": [
    "Overall this makes more sense when doing arithmetics - we define multiple lists with numbers and do some different calculus in each lambda operator:"
   ]
  },
  {
   "cell_type": "code",
   "execution_count": 4,
   "metadata": {},
   "outputs": [
    {
     "name": "stdout",
     "output_type": "stream",
     "text": [
      "[0, 0, 0, 0, 0]\n",
      "[-1, -4, -9, -16, -25]\n",
      "[2.1, 4.1, 6.1, 8.1, 10.1]\n"
     ]
    }
   ],
   "source": [
    "l1 = [1,2,3,4,5]\n",
    "l2 = [-1,-2,-3,-4,-5]\n",
    "l3 = [0.1]*5\n",
    "\n",
    "print(list(map(lambda x,y : x+y , l1,l2)))\n",
    "print(list(map(lambda x,y : x*y , l1,l2)))\n",
    "print(list(map(lambda x,y,z : x-y+z , l1,l2,l3)))"
   ]
  },
  {
   "cell_type": "markdown",
   "metadata": {},
   "source": [
    "# The filter function"
   ]
  },
  {
   "cell_type": "markdown",
   "metadata": {},
   "source": [
    "The filter function requires a function which evaluates a truth condition as first argument. This is then applied to a list which should be given as second argument and overall a list is returned, where the evaluation results in _True_. <br>\n",
    "<br>\n",
    "Example (sentence string is from Wikipedia):"
   ]
  },
  {
   "cell_type": "code",
   "execution_count": 14,
   "metadata": {},
   "outputs": [],
   "source": [
    "sentence = 'Denali (/dɪˈnɑːli/)[5][6] (also known as Mount McKinley, its former official name)[7] is the highest mountain peak in North America, with a summit elevation of 20,310 feet (6,190 m) above sea level'\n",
    "words = sentence.split()"
   ]
  },
  {
   "cell_type": "code",
   "execution_count": 6,
   "metadata": {},
   "outputs": [
    {
     "data": {
      "text/plain": [
       "['Denali', 'Mount', 'McKinley,', 'North', 'America,']"
      ]
     },
     "execution_count": 6,
     "metadata": {},
     "output_type": "execute_result"
    }
   ],
   "source": [
    "capitals = filter(lambda x: x[0].isupper(), words)\n",
    "list(capitals)"
   ]
  },
  {
   "cell_type": "markdown",
   "metadata": {},
   "source": [
    "Again, we need to convert to a list since the filter function returns a filter object."
   ]
  },
  {
   "cell_type": "markdown",
   "metadata": {},
   "source": [
    "# Iterators in Python"
   ]
  },
  {
   "cell_type": "markdown",
   "metadata": {},
   "source": [
    "For a concise overview about iterators, please refer to the [Python doc](https://docs.python.org/3/tutorial/classes.html#iterators). We want to focus on the application part of this, moreover define the difference between __iterator__ and __iterable__. <br>\n",
    "An __iterable__ is an object that has an __iter( )__ method which returns an iterator, or which defines a __getitem( )__ method that can take sequential indexes starting from zero (and raises an IndexError when the indexes are no longer valid). So an iterable is an object that you can get an iterator from.\n",
    "\n",
    "An iterator is an object with a __next( )__  method. "
   ]
  },
  {
   "cell_type": "markdown",
   "metadata": {},
   "source": [
    "Whenever you use a for loop, or map, or a list comprehension, etc. in Python, the __next( )__  method is called automatically to get each item from the iterator, thus going through the process of iteration.<br>\n",
    "Another way of looking at this:<br>\n",
    "\n",
    "__Iterables__ are\n",
    "\n",
    "- anything that can be looped over (e.g. strings, lists, files etc.)\n",
    "- anything that can appear on the right-side of a for-loop: _for x in iterable:_ (also applies to other loops)\n",
    "- anything you can call with _iter()_ that will return an ITERATOR: iter(obj)\n",
    "- an object that defines __iter__ that returns a fresh ITERATOR, or it may have a __getitem__ method suitable for indexed lookup.\n"
   ]
  },
  {
   "cell_type": "code",
   "execution_count": 7,
   "metadata": {},
   "outputs": [
    {
     "name": "stdout",
     "output_type": "stream",
     "text": [
      "1\n"
     ]
    }
   ],
   "source": [
    "l = [1,2,3]\n",
    "i = iter(l)\n",
    "print(next(i))"
   ]
  },
  {
   "cell_type": "markdown",
   "metadata": {},
   "source": [
    "__Iterators__ are objects:\n",
    "\n",
    "- with states; states remember the position during iteration,\n",
    "- with a __next__ method that:\n",
    "        returns the next value in the iteration\n",
    "        updates the state to point at the next value\n",
    "        signals when it is done by raising StopIteration\n",
    "- and that is self-iterable (meaning that it has an __iter__ method that returns self).\n"
   ]
  },
  {
   "cell_type": "code",
   "execution_count": 8,
   "metadata": {},
   "outputs": [
    {
     "name": "stdout",
     "output_type": "stream",
     "text": [
      "i\n",
      "t\n",
      "e\n",
      "r\n",
      "a\n",
      "t\n",
      "e\n"
     ]
    }
   ],
   "source": [
    "demoString = 'iterate over this'\n",
    "i = iter(demoString)\n",
    "print(i.__next__())\n",
    "print(i.__next__())\n",
    "print(i.__next__())\n",
    "print(i.__next__())\n",
    "print(i.__next__())\n",
    "print(i.__next__())\n",
    "print(i.__next__())"
   ]
  },
  {
   "cell_type": "markdown",
   "metadata": {},
   "source": [
    "One very important usage of iterators is implicit within for-loops. "
   ]
  },
  {
   "cell_type": "markdown",
   "metadata": {},
   "source": [
    "# Generators in Python\n",
    "\n",
    "A generator is a function that returns some kind of data _before_ (!) it is finished. However, it pauses at that point, making it possible to resume from there. It makes use of the keyword __yield__.<br>\n",
    "Example:"
   ]
  },
  {
   "cell_type": "code",
   "execution_count": 9,
   "metadata": {},
   "outputs": [],
   "source": [
    "def myGen():\n",
    "    yield 1\n",
    "    yield 2\n",
    "    yield 3"
   ]
  },
  {
   "cell_type": "code",
   "execution_count": 10,
   "metadata": {},
   "outputs": [
    {
     "name": "stdout",
     "output_type": "stream",
     "text": [
      "1\n",
      "this is a string\n",
      "2\n",
      "3\n"
     ]
    }
   ],
   "source": [
    "g = myGen()\n",
    "print(next(g))\n",
    "\n",
    "\n",
    "#do something else\n",
    "s = 'this is a string'\n",
    "print(s)\n",
    "\n",
    "#pick up where you left off\n",
    "print(next(g))\n",
    "print(next(g))"
   ]
  },
  {
   "cell_type": "markdown",
   "metadata": {},
   "source": [
    "Opposed to _functions_ , _generators_ deal with data one piece at a time. This makes them suitable to deal with large amounts of data. Using the keyword __yield__, one element at a time is returned, whereas functions typically handle all code until they reach the end or a return statement. Since _generators_ are _iterable_, just like lists, we can loop over them:"
   ]
  },
  {
   "cell_type": "code",
   "execution_count": 11,
   "metadata": {},
   "outputs": [
    {
     "name": "stdout",
     "output_type": "stream",
     "text": [
      "1\n",
      "2\n",
      "3\n"
     ]
    }
   ],
   "source": [
    "g1 = myGen()\n",
    "\n",
    "for i in g1:\n",
    "    print(i)"
   ]
  },
  {
   "cell_type": "markdown",
   "metadata": {},
   "source": [
    "### Working with iterators and generators\n",
    "\n",
    "Building an own iterator class comes with a lot of overhead. <br>\n",
    "You have to:\n",
    "- implement a class with a __next()__ and and __iter()__ method\n",
    "- track the internal states and\n",
    "- raise a stopiteration when all of the values have been processed\n",
    "\n",
    "Generators take care of this work - they are functions generating iterators which we then can loop over.\n",
    "All you need to do is define a function containing the __yield__ statement.<br>\n",
    "Now it comes in especially handy when we use __generetor expressions__ to generate the data _on the fly_  - just as in lambda functions, generator expressions create generators _anonymously_:"
   ]
  },
  {
   "cell_type": "code",
   "execution_count": 12,
   "metadata": {
    "scrolled": true
   },
   "outputs": [],
   "source": [
    "gE = (x**2 for x in [2,3,4]) # this creates a generator object"
   ]
  },
  {
   "cell_type": "markdown",
   "metadata": {},
   "source": [
    "Now this looks very much like the syntax in using list comprehensions, except that we use _parentheses_ instead of square brackets. "
   ]
  },
  {
   "cell_type": "markdown",
   "metadata": {},
   "source": [
    "<div class=\"alert alert-block alert-success\">\n",
    "<b>Important:</b> The main difference to <b>list comprehensions</b>  is the fact that generator excpressions produce one item at a time, while <b> list comprehensions </b> produce the whole list at once. Regarding the syntax, we use <i>parentheses</i> for <b>generator expressions</b> and square brackets for <b>list comprehensions</b>.\n",
    "</div>"
   ]
  },
  {
   "cell_type": "code",
   "execution_count": 13,
   "metadata": {},
   "outputs": [
    {
     "name": "stdout",
     "output_type": "stream",
     "text": [
      "4\n",
      "9\n",
      "16\n"
     ]
    }
   ],
   "source": [
    "print(next(gE))\n",
    "print(next(gE))\n",
    "print(next(gE))"
   ]
  },
  {
   "cell_type": "markdown",
   "metadata": {},
   "source": [
    "<div class=\"alert alert-block alert-warning\">\n",
    "<b>Info:</b> If you use a generator expression inside a function, you may omit the parentheses\n",
    "</div>\n",
    "Example:"
   ]
  },
  {
   "cell_type": "code",
   "execution_count": 14,
   "metadata": {},
   "outputs": [
    {
     "name": "stdout",
     "output_type": "stream",
     "text": [
      "<generator object <genexpr> at 0x10d4d4650>\n",
      "6\n"
     ]
    }
   ],
   "source": [
    "print(x for x in [1,2,3])\n",
    "print(sum(x for x in [1,2,3]))"
   ]
  },
  {
   "cell_type": "markdown",
   "metadata": {},
   "source": [
    "### Advantages of generator usage\n"
   ]
  },
  {
   "cell_type": "markdown",
   "metadata": {},
   "source": [
    "Compare the implementation of an iterator vs. a generator:"
   ]
  },
  {
   "cell_type": "code",
   "execution_count": 15,
   "metadata": {},
   "outputs": [],
   "source": [
    "#version iterator\n",
    "class multByTwoIterator:\n",
    "    \n",
    "    def __init__(self, max = 0):\n",
    "        self.max = max\n",
    "        \n",
    "    def __iter__(self):\n",
    "        self.n = 0\n",
    "        return self\n",
    "    \n",
    "    def __next__(self):\n",
    "        if self.n > self.max:\n",
    "            raise StopIteration\n",
    "        result = 2 * self.n\n",
    "        self.n += 1\n",
    "        return result"
   ]
  },
  {
   "cell_type": "code",
   "execution_count": 16,
   "metadata": {},
   "outputs": [],
   "source": [
    "#version generator\n",
    "def multByTwoGenerator(max = 0):\n",
    "        n = 0\n",
    "        while n <= max:\n",
    "            yield 2 * n\n",
    "            n += 1"
   ]
  },
  {
   "cell_type": "code",
   "execution_count": 17,
   "metadata": {
    "scrolled": true
   },
   "outputs": [
    {
     "name": "stdout",
     "output_type": "stream",
     "text": [
      "0\n",
      "2\n",
      "4\n",
      "6\n",
      "8\n",
      "10\n"
     ]
    }
   ],
   "source": [
    "for i in multByTwoIterator(5):\n",
    "    print(i)"
   ]
  },
  {
   "cell_type": "code",
   "execution_count": 18,
   "metadata": {},
   "outputs": [
    {
     "name": "stdout",
     "output_type": "stream",
     "text": [
      "0\n",
      "2\n",
      "4\n",
      "6\n",
      "8\n",
      "10\n"
     ]
    }
   ],
   "source": [
    "for g in multByTwoGenerator(5):\n",
    "    print(g)"
   ]
  },
  {
   "cell_type": "markdown",
   "metadata": {},
   "source": [
    "<div class=\"alert alert-block alert-success\">\n",
    "Both are repsonsible for producing the same result. However, defining the iterator class along with all the methods is <u>cumbersome</u> and <u>prone to errors</u>! The generator is <u>much shorter</u> but, maybe more importantly, can <u>deal with large amounts of data</u> more easily, as it produces items only when asked for!\n",
    "</div>"
   ]
  },
  {
   "cell_type": "code",
   "execution_count": 19,
   "metadata": {},
   "outputs": [],
   "source": [
    "def cubes():\n",
    "    n = 1\n",
    "    while True:\n",
    "        yield n**2\n",
    "        n += 1"
   ]
  },
  {
   "cell_type": "code",
   "execution_count": 20,
   "metadata": {},
   "outputs": [
    {
     "name": "stdout",
     "output_type": "stream",
     "text": [
      "1\n",
      "4\n",
      "9\n"
     ]
    }
   ],
   "source": [
    "c = cubes()\n",
    "print(next(c))\n",
    "print(next(c))\n",
    "print(next(c))"
   ]
  },
  {
   "cell_type": "code",
   "execution_count": 21,
   "metadata": {},
   "outputs": [
    {
     "name": "stdout",
     "output_type": "stream",
     "text": [
      "55\n",
      "1\n",
      "2\n",
      "3\n",
      "4\n",
      "5\n",
      "6\n",
      "7\n",
      "8\n",
      "9\n",
      "10\n"
     ]
    }
   ],
   "source": [
    "def nums():\n",
    "    nums = [1, 2, 3, 4, 5, 6, 7, 8, 9, 10]\n",
    "    for num in nums:\n",
    "        yield num\n",
    "print (sum(nums()))\n",
    "for num in nums():\n",
    "    print (num)"
   ]
  },
  {
   "cell_type": "markdown",
   "metadata": {},
   "source": [
    "### Applications of generators in pipelines"
   ]
  },
  {
   "cell_type": "markdown",
   "metadata": {},
   "source": [
    "Let's use the example from chapter [The filter function](#The-filter-function). Imagine, we want to process all the words (or elements split by a space) in the given sentence. We want to do these things:\n",
    "\n",
    "- read in every word\n",
    "- check if its length is odd\n",
    "- if so, triple its length\n",
    "- print it out as a string\n",
    "\n",
    "If we want to do this without generators, it might look like this:"
   ]
  },
  {
   "cell_type": "code",
   "execution_count": 15,
   "metadata": {},
   "outputs": [
    {
     "data": {
      "text/plain": [
       "31"
      ]
     },
     "execution_count": 15,
     "metadata": {},
     "output_type": "execute_result"
    }
   ],
   "source": [
    "result_words = sentence.split()\n",
    "len(result_words)"
   ]
  },
  {
   "cell_type": "code",
   "execution_count": 16,
   "metadata": {},
   "outputs": [
    {
     "name": "stdout",
     "output_type": "stream",
     "text": [
      "Length: 15\n",
      "Length: 15\n",
      "Length: 15\n",
      "Length: 27\n",
      "Length: 9\n",
      "Length: 9\n",
      "Length: 21\n",
      "Length: 15\n",
      "Length: 3\n",
      "Length: 27\n",
      "Length: 15\n",
      "Length: 9\n",
      "Length: 15\n"
     ]
    }
   ],
   "source": [
    "def myReadCalcFunction(word):\n",
    "    l = len(word)\n",
    "    if (l % 2) == 1:\n",
    "        l = l*3\n",
    "        print('Length: ' + str(l))\n",
    "        return l\n",
    "for w in result_words:\n",
    "    myReadCalcFunction(w)"
   ]
  },
  {
   "cell_type": "markdown",
   "metadata": {},
   "source": [
    "Now with generators, we may achieve something like this:"
   ]
  },
  {
   "cell_type": "code",
   "execution_count": 17,
   "metadata": {},
   "outputs": [
    {
     "name": "stdout",
     "output_type": "stream",
     "text": [
      "[6, 18, 5, 5, 2, 5, 9, 3, 6, 8, 8, 2, 3, 7, 8, 4, 2, 5, 8, 4, 1, 6, 9, 2, 6, 4, 6, 2, 5, 3, 5]\n",
      "Result is: 15\n",
      "Result is: 15\n",
      "Result is: 15\n",
      "Result is: 27\n",
      "Result is: 9\n",
      "Result is: 9\n",
      "Result is: 21\n",
      "Result is: 15\n",
      "Result is: 3\n",
      "Result is: 27\n",
      "Result is: 15\n",
      "Result is: 9\n",
      "Result is: 15\n"
     ]
    }
   ],
   "source": [
    "wordlengths = [len(w) for w in result_words] \n",
    "\n",
    "print(wordlengths)\n",
    "#print(len([x for x in wordlengths if x % 2 == 1]))\n",
    "\n",
    "def odd_length(mywords):\n",
    "    for wL in mywords:\n",
    "        if wL % 2 == 1:\n",
    "            yield wL\n",
    "\n",
    "def mult3(nums_l):\n",
    "    for l in nums_l:\n",
    "        yield l * 3\n",
    "\n",
    "def makeString(nums_l):\n",
    "    for num in nums_l:\n",
    "        yield ('Result is: %s' % num)\n",
    "\n",
    "pipeline = makeString(mult3(odd_length(wordlengths)))\n",
    "for num in pipeline:\n",
    "    print (num)"
   ]
  },
  {
   "cell_type": "markdown",
   "metadata": {},
   "source": [
    "# List comprehensions"
   ]
  },
  {
   "cell_type": "markdown",
   "metadata": {},
   "source": [
    "List comprehensions are a powerful tool to rewrite code in a short way. As a rule of thumb, anything that can be written in a loop, can also be rewritten with the help of a list comprehension. Let's start with a simple example:"
   ]
  },
  {
   "cell_type": "code",
   "execution_count": 25,
   "metadata": {},
   "outputs": [
    {
     "name": "stdout",
     "output_type": "stream",
     "text": [
      "[0, 1, 4, 9, 16, 25, 36]\n"
     ]
    }
   ],
   "source": [
    "empty_list = []\n",
    "\n",
    "for i in range (0,7):\n",
    "    empty_list.append(i**2)\n",
    "print(empty_list)"
   ]
  },
  {
   "cell_type": "code",
   "execution_count": 26,
   "metadata": {},
   "outputs": [
    {
     "name": "stdout",
     "output_type": "stream",
     "text": [
      "[0, 1, 4, 9, 16, 25, 36]\n"
     ]
    }
   ],
   "source": [
    "## same effect with list comprehensions \n",
    "empty_list_2 = [x**2 for x in range(0,7)]\n",
    "print(empty_list_2)"
   ]
  },
  {
   "cell_type": "markdown",
   "metadata": {},
   "source": [
    "The basic syntax explained: __x**2__ holds the effect of what should happen __for x__ regarding the chosen elements, in this case the elements __in range(0,7)__.<br>\n",
    "Let's look at another example with strings:"
   ]
  },
  {
   "cell_type": "code",
   "execution_count": 27,
   "metadata": {},
   "outputs": [
    {
     "name": "stdout",
     "output_type": "stream",
     "text": [
      "['this', 'is', 'the', 'string', 'we', 'want', 'to', 'work', 'with']\n"
     ]
    }
   ],
   "source": [
    "s = 'this is the string we want to work with'\n",
    "l = s.split(' ')\n",
    "print (l)"
   ]
  },
  {
   "cell_type": "code",
   "execution_count": 28,
   "metadata": {},
   "outputs": [
    {
     "name": "stdout",
     "output_type": "stream",
     "text": [
      "['THIS', 'IS', 'THE', 'STRING', 'WE', 'WANT', 'TO', 'WORK', 'WITH']\n"
     ]
    }
   ],
   "source": [
    "new_list = []\n",
    "for elem in l:\n",
    "    new_elem = elem.upper()\n",
    "    new_list.append(new_elem)\n",
    "print(new_list)"
   ]
  },
  {
   "cell_type": "code",
   "execution_count": 29,
   "metadata": {},
   "outputs": [
    {
     "name": "stdout",
     "output_type": "stream",
     "text": [
      "['THIS', 'IS', 'THE', 'STRING', 'WE', 'WANT', 'TO', 'WORK', 'WITH']\n"
     ]
    }
   ],
   "source": [
    "##with list comprehension\n",
    "another_list = [s.upper() for s in l]\n",
    "print(another_list)"
   ]
  },
  {
   "cell_type": "markdown",
   "metadata": {},
   "source": [
    "List comprehensions can be modified with if statements:"
   ]
  },
  {
   "cell_type": "code",
   "execution_count": 30,
   "metadata": {},
   "outputs": [
    {
     "name": "stdout",
     "output_type": "stream",
     "text": [
      "['WE', 'WANT', 'WORK', 'WITH']\n"
     ]
    }
   ],
   "source": [
    "another_list = [s.upper() for s in l if s[0] == 'w']\n",
    "print(another_list)"
   ]
  },
  {
   "cell_type": "markdown",
   "metadata": {},
   "source": [
    "What we achieved was a selection of elements, i.e. we chose to include and capitalize words only if the original word starts with a __*w*__."
   ]
  },
  {
   "cell_type": "code",
   "execution_count": 31,
   "metadata": {},
   "outputs": [
    {
     "name": "stdout",
     "output_type": "stream",
     "text": [
      "['A', 'B', 'C', 'AA', 'BB', 'CC', 'AAA', 'BBB', 'CCC']\n"
     ]
    }
   ],
   "source": [
    "a = [['A', 'B', 'C'], ['AA', 'BB', 'CC'], ['AAA', 'BBB', 'CCC'],]\n",
    "\n",
    "res = []\n",
    "for e1 in a:\n",
    "    for e2 in e1:\n",
    "        res.append(e2)\n",
    "print (res)"
   ]
  },
  {
   "cell_type": "code",
   "execution_count": 32,
   "metadata": {},
   "outputs": [
    {
     "data": {
      "text/plain": [
       "['A', 'B', 'C', 'AA', 'BB', 'CC', 'AAA', 'BBB', 'CCC']"
      ]
     },
     "execution_count": 32,
     "metadata": {},
     "output_type": "execute_result"
    }
   ],
   "source": [
    "res_2 = [x for e1 in a for x in e1]\n",
    "res_2"
   ]
  },
  {
   "cell_type": "markdown",
   "metadata": {},
   "source": [
    "Now this is difficult to read. If you transfer nested loops into nested list comprehensions, remember to keep the order intact. This means, the first comprehension is the outer loop, the second comprehension is the inner loop."
   ]
  },
  {
   "cell_type": "markdown",
   "metadata": {},
   "source": [
    "### Comprehensions on lists in lists\n",
    "\n",
    "Applying a function to each sublist in a list, can also be done with a comprehension - imagine you want to square each element in a list but keep the internal structure of the container as a whole:"
   ]
  },
  {
   "cell_type": "code",
   "execution_count": 33,
   "metadata": {},
   "outputs": [
    {
     "name": "stdout",
     "output_type": "stream",
     "text": [
      "[[1, 4, 9], [16, 25, 36], [49, 64, 81]]\n"
     ]
    }
   ],
   "source": [
    "x = [[1,2,3],[4,5,6],[7,8,9]]\n",
    "res = [[n**2 for n in y] for y in x]# [n+1 for n in y]  <-- this part keeps the structure of lists intact\n",
    "#for y in x <-- we have to iterate over every list in x\n",
    "print(res)"
   ]
  },
  {
   "cell_type": "markdown",
   "metadata": {},
   "source": [
    "This can also be achieved by a _map_:"
   ]
  },
  {
   "cell_type": "code",
   "execution_count": 34,
   "metadata": {},
   "outputs": [],
   "source": [
    "def show_result(map_object):\n",
    "    for item in map_object:\n",
    "        print(item, end=' ')\n",
    "    print('')  # for new line"
   ]
  },
  {
   "cell_type": "code",
   "execution_count": 35,
   "metadata": {},
   "outputs": [
    {
     "data": {
      "text/plain": [
       "[1, 4, 9]"
      ]
     },
     "execution_count": 35,
     "metadata": {},
     "output_type": "execute_result"
    }
   ],
   "source": [
    "map_result = [map(lambda x:x**2 ,y) for y in x]\n",
    "list(map_result[0])"
   ]
  },
  {
   "cell_type": "markdown",
   "metadata": {},
   "source": [
    "## List comprehensions for sets and dictionaries"
   ]
  },
  {
   "cell_type": "code",
   "execution_count": 36,
   "metadata": {},
   "outputs": [
    {
     "name": "stdout",
     "output_type": "stream",
     "text": [
      "{'o', 'l', 'a', 'n', 'r', 'd', 'f', 's', 'w', 'i'}\n"
     ]
    }
   ],
   "source": [
    "strlist = 'data science is a nice field of research dealing with lots of data samples'.split(' ')\n",
    "newset = {s[0] for s in strlist} # if you want to create sets, use the curly brackets\n",
    "print(newset)"
   ]
  },
  {
   "cell_type": "code",
   "execution_count": 37,
   "metadata": {},
   "outputs": [
    {
     "name": "stdout",
     "output_type": "stream",
     "text": [
      "{'a': 1, 'n': 3, 'l': 6, 'i': 9, 'w': 5, 'o': 2, 'd': 9}\n"
     ]
    }
   ],
   "source": [
    "strlist_2 = 'a new list including words of different length'.split(' ')\n",
    "newdict = {s[0]:len(s) for s in strlist_2} # dictionaries are created as expected, using key:values and the {}\n",
    "print(newdict)"
   ]
  },
  {
   "cell_type": "markdown",
   "metadata": {},
   "source": [
    "## Advanced list comprehensions"
   ]
  },
  {
   "cell_type": "markdown",
   "metadata": {},
   "source": [
    "Understanding list comprehensions can be tricky sometimes, consider this example:"
   ]
  },
  {
   "cell_type": "code",
   "execution_count": 38,
   "metadata": {},
   "outputs": [],
   "source": [
    "res = [x for i in range(2) for x in range(10) if i == x%2]"
   ]
  },
  {
   "cell_type": "code",
   "execution_count": 39,
   "metadata": {},
   "outputs": [
    {
     "name": "stdout",
     "output_type": "stream",
     "text": [
      "[0, 2, 4, 6, 8, 1, 3, 5, 7, 9]\n"
     ]
    }
   ],
   "source": [
    "print(res) # we have to print the output, to get an idea of this nested comprehension"
   ]
  },
  {
   "cell_type": "markdown",
   "metadata": {},
   "source": [
    "Try to understand how the output is created, we have, in fact, two loops here.<br>\n",
    "Any list comprehension can be rewritten into loops, let's try this:"
   ]
  },
  {
   "cell_type": "code",
   "execution_count": 40,
   "metadata": {},
   "outputs": [
    {
     "name": "stdout",
     "output_type": "stream",
     "text": [
      "[0, 2, 4, 6, 8, 1, 3, 5, 7, 9]\n"
     ]
    }
   ],
   "source": [
    "res = []\n",
    "for x in range(2):\n",
    "    for y in range(10):\n",
    "        if y % 2 == x:\n",
    "            res.append(y)\n",
    "print(res) # this is much more readable!"
   ]
  },
  {
   "cell_type": "markdown",
   "metadata": {},
   "source": [
    "As you can see, this leads to the same output as the list comprehension above. <br>\n",
    "Hint: Look at the similarity between the nested loops and the syntax in the list comprehension: The chronology of the outer and the inner loop must be maintained, followed be the if-statement."
   ]
  },
  {
   "cell_type": "markdown",
   "metadata": {},
   "source": [
    "### Practice - working with a dataset"
   ]
  },
  {
   "cell_type": "markdown",
   "metadata": {},
   "source": [
    "The dataset is taken from [here](https://www.kaggle.com/mbogernetto/fires-in-the-brazilian-amazon-1999-to-2019-inpe#inpe_amazon_fires_1999_2019.csv)."
   ]
  },
  {
   "cell_type": "markdown",
   "metadata": {},
   "source": [
    "### Context\n",
    "\n",
    "The Amazon rainforest is a moist broadleaf tropical rainforest in the Amazon biome that covers territory belonging to nine nations. The majority of the forest is contained within Brazil, with 60% of the rainforest, followed by Peru with 13%, Colombia with 10%, and with minor amounts in Venezuela, Ecuador, Bolivia, Guyana, Suriname and French Guiana.\n",
    "\n",
    "The lush region provides important benefits to communities living near and far. Nearly 500 indigenous communities call the Amazon rainforest home. It’s a highly biodiverse ecosystem, home to untold species of plants and animals. The rainforest can create its own weather and influence climates around the world. Unfortunately, the fragile ecosystem faces the constant threat of deforestation and fires (for natural or anthropogenic causes).\n"
   ]
  },
  {
   "cell_type": "markdown",
   "metadata": {},
   "source": [
    "### Content"
   ]
  },
  {
   "cell_type": "markdown",
   "metadata": {},
   "source": [
    "This data set refers to fire outbreaks in the Amazon rainforest in Brazilian territory. The data used are public and were downloaded from the INPE website, where each line is a \"fire spot\". The data were aggregated using SQL so that you could work with lighter files."
   ]
  },
  {
   "cell_type": "code",
   "execution_count": 3,
   "metadata": {},
   "outputs": [],
   "source": [
    "with open('inpe_amazon_fires_1999_2019.csv') as f:\n",
    "    content = f.readlines()\n",
    "# you may also want to remove whitespace characters like `\\n` at the end of each line\n",
    "content = [x.strip().replace('\"', '') for x in content]#this cleans up the carriage return character at the end of each line"
   ]
  },
  {
   "cell_type": "markdown",
   "metadata": {},
   "source": [
    "### Task 1: <br>\n",
    "Using a list comprehension, create a new list called __new_content__ containing lists of six elements, where each list corresponds to one line in the *content* list. The six elements in each list each are the elements separated by the colons."
   ]
  },
  {
   "cell_type": "code",
   "execution_count": 4,
   "metadata": {},
   "outputs": [
    {
     "data": {
      "text/plain": [
       "['year,month,state,latitude,longitude,firespots',\n",
       " '1999,1,AMAZONAS,-2.3711133333333333,-59.8999333333333333,3',\n",
       " '1999,1,MARANHAO,-2.2573947222222222,-45.4878305555555556,36',\n",
       " '1999,1,MATO GROSSO,-12.6113368421052632,-55.0765157894736842,19',\n",
       " '1999,1,PARA,-2.4748204597701149,-48.5469666666666667,87']"
      ]
     },
     "execution_count": 4,
     "metadata": {},
     "output_type": "execute_result"
    }
   ],
   "source": [
    "content[:5]"
   ]
  },
  {
   "cell_type": "code",
   "execution_count": 5,
   "metadata": {},
   "outputs": [],
   "source": [
    "new_content = [x.split(',') for x in content if 'year' not in x]"
   ]
  },
  {
   "cell_type": "code",
   "execution_count": 6,
   "metadata": {
    "scrolled": true
   },
   "outputs": [
    {
     "data": {
      "text/plain": [
       "[['1999', '1', 'AMAZONAS', '-2.3711133333333333', '-59.8999333333333333', '3'],\n",
       " ['1999',\n",
       "  '1',\n",
       "  'MARANHAO',\n",
       "  '-2.2573947222222222',\n",
       "  '-45.4878305555555556',\n",
       "  '36'],\n",
       " ['1999',\n",
       "  '1',\n",
       "  'MATO GROSSO',\n",
       "  '-12.6113368421052632',\n",
       "  '-55.0765157894736842',\n",
       "  '19']]"
      ]
     },
     "execution_count": 6,
     "metadata": {},
     "output_type": "execute_result"
    }
   ],
   "source": [
    "new_content[0:3]"
   ]
  },
  {
   "cell_type": "markdown",
   "metadata": {},
   "source": [
    "Answer the following questions:\n",
    "- How many fires were there each year? Display this with the help of the following cells.\n",
    "- What is the region with the most fires?\n",
    "\n",
    "Present various solutions, make use of the lambda operator, if possible"
   ]
  },
  {
   "cell_type": "code",
   "execution_count": 7,
   "metadata": {},
   "outputs": [],
   "source": [
    "#solution for: 'how many fires were there each year?'\n",
    "import matplotlib.pyplot as plt\n",
    "import numpy as np\n",
    "from collections import Counter\n",
    "%matplotlib inline\n",
    "\n",
    "fire = {}\n",
    "\n",
    "for e in new_content:\n",
    "    \n",
    "    if e[0] in fire.keys():\n",
    "        fire[e[0]] += 1\n",
    "    else:\n",
    "        fire[e[0]] = 1\n",
    "          \n",
    "counts = Counter(fire)\n",
    "common = counts.most_common()\n",
    "common.sort(key=lambda tup: tup[0])\n",
    "\n",
    "labels = [item[0] for item in common]\n",
    "number = [item[1] for item in common]\n"
   ]
  },
  {
   "cell_type": "code",
   "execution_count": 8,
   "metadata": {},
   "outputs": [
    {
     "data": {
      "image/png": "[encoded data removed]",
      "text/plain": [
       "<Figure size 960x640 with 1 Axes>"
      ]
     },
     "metadata": {},
     "output_type": "display_data"
    }
   ],
   "source": [
    "nbars = len(common)\n",
    "\n",
    "from matplotlib.pyplot import figure\n",
    "figure(num=None, figsize=(12, 8), dpi=80, facecolor='w', edgecolor='k')\n",
    "\n",
    "plt.bar(np.arange(nbars), number, tick_label=labels)\n",
    "plt.show()"
   ]
  },
  {
   "cell_type": "code",
   "execution_count": 9,
   "metadata": {},
   "outputs": [
    {
     "name": "stdout",
     "output_type": "stream",
     "text": [
      "The region with the most fires: PARA\n",
      "The number of fires in PARA was 4930320\n"
     ]
    }
   ],
   "source": [
    "#solution for: 'region with most fires'\n",
    "import operator\n",
    "firespots = {}\n",
    "\n",
    "for element in new_content:\n",
    "    key = element[2]\n",
    "    val = element[5]\n",
    "    if key in firespots.keys():\n",
    "        firespots[key] += int(val)\n",
    "    else:\n",
    "        firespots[key] = int(val)   \n",
    "        \n",
    "region = max(firespots.items(), key=operator.itemgetter(1))[0]\n",
    "number = max(firespots.items(), key=operator.itemgetter(1))[1]\n",
    "\n",
    "print('The region with the most fires: {}'.format(region))\n",
    "print('The number of fires in {} was {}'.format(region, number))"
   ]
  },
  {
   "cell_type": "code",
   "execution_count": 10,
   "metadata": {},
   "outputs": [
    {
     "name": "stdout",
     "output_type": "stream",
     "text": [
      "{'AMAZONAS': 1054722, 'MARANHAO': 937007, 'MATO GROSSO': 3269179, 'PARA': 4930320, 'RONDONIA': 1588397, 'RORAIMA': 481125, 'AMAPA': 193272, 'TOCANTINS': 87214, 'ACRE': 420017}\n"
     ]
    }
   ],
   "source": [
    "print(firespots)\n"
   ]
  },
  {
   "cell_type": "code",
   "execution_count": 11,
   "metadata": {
    "scrolled": true
   },
   "outputs": [
    {
     "name": "stdout",
     "output_type": "stream",
     "text": [
      "PARA\n",
      "TOCANTINS\n"
     ]
    }
   ],
   "source": [
    "print(max(firespots, key=lambda k: firespots[k]))\n",
    "print(max(firespots, key=lambda k: k))"
   ]
  },
  {
   "cell_type": "code",
   "execution_count": 149,
   "metadata": {},
   "outputs": [
    {
     "data": {
      "text/plain": [
       "{'AMAZONAS': 1054722,\n",
       " 'MARANHAO': 937007,\n",
       " 'MATO GROSSO': 3269179,\n",
       " 'PARA': 4930320,\n",
       " 'RONDONIA': 1588397,\n",
       " 'RORAIMA': 481125,\n",
       " 'AMAPA': 193272,\n",
       " 'TOCANTINS': 87214,\n",
       " 'ACRE': 420017}"
      ]
     },
     "execution_count": 149,
     "metadata": {},
     "output_type": "execute_result"
    }
   ],
   "source": [
    "firespots"
   ]
  }
 ],
 "metadata": {
  "kernelspec": {
   "display_name": "Python 3 (ipykernel)",
   "language": "python",
   "name": "python3"
  },
  "language_info": {
   "codemirror_mode": {
    "name": "ipython",
    "version": 3
   },
   "file_extension": ".py",
   "mimetype": "text/x-python",
   "name": "python",
   "nbconvert_exporter": "python",
   "pygments_lexer": "ipython3",
   "version": "3.10.6"
  }
 },
 "nbformat": 4,
 "nbformat_minor": 2
}
