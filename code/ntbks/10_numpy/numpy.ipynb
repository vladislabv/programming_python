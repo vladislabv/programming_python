{
 "cells": [
  {
   "cell_type": "markdown",
   "metadata": {},
   "source": [
    "## Numpy \n",
    "Numpy is a commonly used library for the scientific use of python.\n",
    "The package allows high-performance computation on multidimensional arrays. There are a lot of built-in functions for working with arrays. \n",
    "This notebook wants to show basic and advanced functionalities of numpy."
   ]
  },
  {
   "cell_type": "code",
   "execution_count": 1,
   "metadata": {},
   "outputs": [],
   "source": [
    "import numpy as np # importing numpy with an alias for easy use"
   ]
  },
  {
   "cell_type": "markdown",
   "metadata": {},
   "source": [
    "Initializing arrays and accessing elements and information about a given array"
   ]
  },
  {
   "cell_type": "code",
   "execution_count": 2,
   "metadata": {},
   "outputs": [
    {
     "name": "stdout",
     "output_type": "stream",
     "text": [
      "[1 2 3 4 5]\n",
      "<class 'numpy.ndarray'>\n",
      "(5,)\n",
      "1\n",
      "[6 2 3 4 5]\n"
     ]
    }
   ],
   "source": [
    "a = np.array([1, 2, 3, 4, 5])\n",
    "\n",
    "print(a)\n",
    "print(type(a)) # python built-in function for any python object\n",
    "print(a.shape) # function of the numpy object that returns the shape of the array\n",
    "\n",
    "print(a[0]) # access elements like in a python list\n",
    "\n",
    "a[0] = 6 # change a list object value\n",
    "print(a)\n"
   ]
  },
  {
   "cell_type": "markdown",
   "metadata": {},
   "source": [
    "Creating multidimensional arrays or matrices"
   ]
  },
  {
   "cell_type": "code",
   "execution_count": 3,
   "metadata": {},
   "outputs": [
    {
     "name": "stdout",
     "output_type": "stream",
     "text": [
      "(3, 3)\n",
      "1 6\n"
     ]
    }
   ],
   "source": [
    "b = np.array([[1, 2, 3], [4, 5, 6], [7, 8, 9]])\n",
    "print(b.shape)\n",
    "print(b[0, 0], b[1, 2])"
   ]
  },
  {
   "cell_type": "markdown",
   "metadata": {},
   "source": [
    "Convenience functions for easy array creation"
   ]
  },
  {
   "cell_type": "code",
   "execution_count": 4,
   "metadata": {},
   "outputs": [
    {
     "name": "stdout",
     "output_type": "stream",
     "text": [
      "[[0. 0. 0.]\n",
      " [0. 0. 0.]\n",
      " [0. 0. 0.]]\n",
      "[[1. 1.]]\n",
      "[[1. 0. 0.]\n",
      " [0. 1. 0.]\n",
      " [0. 0. 1.]]\n",
      "[[0.06229396 0.79582421 0.10601111]\n",
      " [0.71470154 0.94250043 0.8033633 ]\n",
      " [0.57177293 0.02279817 0.97473316]]\n"
     ]
    }
   ],
   "source": [
    "a = np.zeros((3,3))\n",
    "print(a)\n",
    "\n",
    "b = np.ones((1, 2))\n",
    "print(b)\n",
    "\n",
    "c = np.eye(3) # creates a 3 dimensional identity matrix\n",
    "print(c)\n",
    "\n",
    "d = np.random.random((3,3)) #creates a 3x3 matrix with random values between 0 and 1\n",
    "print(d)"
   ]
  },
  {
   "cell_type": "markdown",
   "metadata": {},
   "source": [
    "### Exercise 11.1\n",
    "Create an array with shape (3,7) filled like\n",
    "[[1, 2, 3 ,4 , 5, 6, 7]\n",
    " [8, 9, ...\n",
    " ]]"
   ]
  },
  {
   "cell_type": "code",
   "execution_count": 5,
   "metadata": {},
   "outputs": [
    {
     "name": "stdout",
     "output_type": "stream",
     "text": [
      "[[ 1  2  3  4  5  6  7]\n",
      " [ 8  9 10 11 12 13 14]\n",
      " [15 16 17 18 19 20 21]]\n"
     ]
    }
   ],
   "source": [
    "a = np.array([[1, 2, 3 ,4 , 5, 6, 7],\n",
    "              [8, 9, 10, 11 ,12, 13, 14],\n",
    "              [15, 16, 17, 18 ,19, 20, 21]\n",
    "             ]\n",
    "            )\n",
    "print(a)"
   ]
  },
  {
   "cell_type": "markdown",
   "metadata": {},
   "source": [
    "### Exercise 11.2\n",
    "Create an array that contains the elements from the last two rows from column three to five"
   ]
  },
  {
   "cell_type": "code",
   "execution_count": 6,
   "metadata": {},
   "outputs": [
    {
     "name": "stdout",
     "output_type": "stream",
     "text": [
      "[[10 11 12]\n",
      " [17 18 19]]\n"
     ]
    }
   ],
   "source": [
    "b = a[-2:, 2:5]\n",
    "print(b)"
   ]
  },
  {
   "cell_type": "markdown",
   "metadata": {},
   "source": [
    "Selecting and modifying elements from a matrix with lists"
   ]
  },
  {
   "cell_type": "code",
   "execution_count": 7,
   "metadata": {},
   "outputs": [
    {
     "name": "stdout",
     "output_type": "stream",
     "text": [
      "[ 3 11 21]\n",
      "[[ 1  2 13  4  5  6  7]\n",
      " [ 8  9 10 21 12 13 14]\n",
      " [15 16 17 18 19 20 31]]\n"
     ]
    }
   ],
   "source": [
    "c = np.array([ 2, 3, 6])\n",
    "#selects one elements from each row with the indices given by c\n",
    "print(a[np.arange(3), c])\n",
    "#add 10 to those elements\n",
    "a[np.arange(3), c ] += 10\n",
    "print(a)"
   ]
  },
  {
   "cell_type": "markdown",
   "metadata": {},
   "source": [
    "### Exercise 11.3\n",
    "\n",
    "Select the third, sixths and second element of row one, two and three from the array and multiply all elements by five"
   ]
  },
  {
   "cell_type": "code",
   "execution_count": 21,
   "metadata": {},
   "outputs": [
    {
     "name": "stdout",
     "output_type": "stream",
     "text": [
      "[[   1    2  130  400    5    6    7]\n",
      " [   8    9   10   21   12  130 1400]\n",
      " [  15  160 1700   18   19   20   31]]\n"
     ]
    }
   ],
   "source": [
    "d = np.array([2, 5, 1])\n",
    "a[np.arange(3), d] *=10\n",
    "print(a)"
   ]
  },
  {
   "cell_type": "markdown",
   "metadata": {},
   "source": [
    "Boolean indexing and masks"
   ]
  },
  {
   "cell_type": "code",
   "execution_count": 9,
   "metadata": {},
   "outputs": [
    {
     "name": "stdout",
     "output_type": "stream",
     "text": [
      "[[False False  True  True False False False]\n",
      " [False False  True  True  True  True  True]\n",
      " [ True  True  True  True  True  True  True]]\n",
      "[ 13  40  10  21  12  13 140  15  16 170  18  19  20  31]\n",
      "[ 13  40   5   6   7   8   9  10  21  12  13 140  15  16 170  18  19  20\n",
      "  31]\n"
     ]
    }
   ],
   "source": [
    "mask = (a>9) #creates a boolean array where the element in a is larger than 9\n",
    "print(mask)\n",
    "\n",
    "print(a[mask]) #prints all values that fulfill the condition\n",
    "\n",
    "print(a[a>2]) # in one line (very convenient for filtering data)"
   ]
  },
  {
   "cell_type": "markdown",
   "metadata": {},
   "source": [
    "## Datatypes in numpy\n",
    "\n",
    "numpy chooses the datatype according to the values in the list.\n",
    "A particular datatype can be enforced during initialization to avoid issues in calculations and assertions"
   ]
  },
  {
   "cell_type": "code",
   "execution_count": 10,
   "metadata": {},
   "outputs": [
    {
     "name": "stdout",
     "output_type": "stream",
     "text": [
      "int64\n",
      "float64\n",
      "int8\n"
     ]
    }
   ],
   "source": [
    "x = np.array([1,2])\n",
    "print(x.dtype)\n",
    "\n",
    "x = np.array([1.0, 2.0])\n",
    "print(x.dtype)\n",
    "\n",
    "x = np.array([1, 2], dtype=np.int8) #forces the datatype to be int8\n",
    "print(x.dtype)"
   ]
  },
  {
   "cell_type": "markdown",
   "metadata": {},
   "source": [
    "## The useful stuff: Math with numpy arrays\n",
    "\n",
    "numpy has a lot of built-in functionalities for basic maths"
   ]
  },
  {
   "cell_type": "code",
   "execution_count": 11,
   "metadata": {},
   "outputs": [
    {
     "name": "stdout",
     "output_type": "stream",
     "text": [
      "[[ 3.  2.  3.]\n",
      " [ 4.  7.  6.]\n",
      " [ 7.  8. 11.]]\n",
      "[[ 3.  2.  3.]\n",
      " [ 4.  7.  6.]\n",
      " [ 7.  8. 11.]]\n",
      "[[-1.  2.  3.]\n",
      " [ 4.  3.  6.]\n",
      " [ 7.  8.  7.]]\n",
      "[[-1.  2.  3.]\n",
      " [ 4.  3.  6.]\n",
      " [ 7.  8.  7.]]\n",
      "[[ 2.  0.  0.]\n",
      " [ 0. 10.  0.]\n",
      " [ 0.  0. 18.]]\n",
      "[[ 2.  0.  0.]\n",
      " [ 0. 10.  0.]\n",
      " [ 0.  0. 18.]]\n",
      "[[1. 1. 1.]\n",
      " [1. 1. 1.]\n",
      " [1. 1. 1.]]\n",
      "[[1. 1. 1.]\n",
      " [1. 1. 1.]\n",
      " [1. 1. 1.]]\n",
      "[[1.         1.41421356 1.73205081]\n",
      " [2.         2.23606798 2.44948974]\n",
      " [2.64575131 2.82842712 3.        ]]\n"
     ]
    }
   ],
   "source": [
    "x = np.array([[1, 2, 3], [4, 5, 6], [7, 8, 9]])\n",
    "y = 2*np.eye(3)\n",
    "\n",
    "#elementwise addition\n",
    "print(x+y) \n",
    "print(np.add(x,y))\n",
    "#elementwise subtraction\n",
    "print(x-y) \n",
    "print(np.subtract(x,y))\n",
    "#elementwise multiplication\n",
    "print(x*y)\n",
    "print(np.multiply(x,y))\n",
    "#elementwise division\n",
    "print(x/x)\n",
    "print(np.divide(x,x))\n",
    "#elementwise square root\n",
    "print(np.sqrt(x))"
   ]
  },
  {
   "cell_type": "code",
   "execution_count": 12,
   "metadata": {},
   "outputs": [],
   "source": [
    "### Matrix multiplication"
   ]
  },
  {
   "cell_type": "code",
   "execution_count": 23,
   "metadata": {},
   "outputs": [
    {
     "name": "stdout",
     "output_type": "stream",
     "text": [
      "[[ 2.  4.  6.]\n",
      " [ 8. 10. 12.]\n",
      " [14. 16. 18.]]\n",
      "[[ 2.  4.  6.]\n",
      " [ 8. 10. 12.]\n",
      " [14. 16. 18.]]\n",
      "[[ 2.  4.  6.]\n",
      " [ 8. 10. 12.]\n",
      " [14. 16. 18.]]\n",
      "[[  0.   6.  -4.]\n",
      " [-12.   0.   8.]\n",
      " [ 16. -14.   0.]]\n"
     ]
    }
   ],
   "source": [
    "\n",
    "print(x.dot(y))\n",
    "print(np.dot(x,y))\n",
    "print(x@y) #this method is preferred in newer versions of numpy\n",
    "\n",
    "print(np.cross(x, y)) #cross product of vectors (row wise)"
   ]
  },
  {
   "cell_type": "code",
   "execution_count": 24,
   "metadata": {},
   "outputs": [
    {
     "name": "stdout",
     "output_type": "stream",
     "text": [
      "32\n",
      "32\n",
      "[14 32 50]\n",
      "[14 32 50]\n",
      "[14 32 50]\n",
      "[-3  6 -3]\n"
     ]
    }
   ],
   "source": [
    "v = np.array([1, 2, 3]) #vector for matrix vector multiplication\n",
    "w = np.array([4, 5, 6])\n",
    "print(v.dot(w)) #scalar product\n",
    "print(np.dot(v, w))\n",
    "\n",
    "print(x.dot(v))\n",
    "print(np.dot(x,v))\n",
    "print(x@v)\n",
    "\n",
    "print(np.cross(v,w)) # vector orthogonal to v, w"
   ]
  },
  {
   "cell_type": "markdown",
   "metadata": {},
   "source": [
    "### more built-in functions"
   ]
  },
  {
   "cell_type": "code",
   "execution_count": 15,
   "metadata": {},
   "outputs": [
    {
     "name": "stdout",
     "output_type": "stream",
     "text": [
      "45\n",
      "[12 15 18]\n",
      "[ 6 15 24]\n"
     ]
    }
   ],
   "source": [
    "print(np.sum(x)) #sums up all elements\n",
    "print(np.sum(x, axis=0)) #sums up all columns\n",
    "print(np.sum(x, axis=1)) #sums up all rows"
   ]
  },
  {
   "cell_type": "markdown",
   "metadata": {},
   "source": [
    "### Transposition\n"
   ]
  },
  {
   "cell_type": "code",
   "execution_count": 16,
   "metadata": {},
   "outputs": [
    {
     "name": "stdout",
     "output_type": "stream",
     "text": [
      "[[1 2 3]\n",
      " [4 5 6]\n",
      " [7 8 9]]\n",
      "[[1 4 7]\n",
      " [2 5 8]\n",
      " [3 6 9]]\n",
      "[1 2 3]\n",
      "[1 2 3]\n"
     ]
    }
   ],
   "source": [
    "print(x)\n",
    "print(x.T)\n",
    "print(v)\n",
    "print(v.T)"
   ]
  },
  {
   "cell_type": "markdown",
   "metadata": {},
   "source": [
    "### Broacasting and Reshaping\n",
    "Broadcasting can be used to add a constant vector to every row or column of a matrix. Numpy handles these operation itself."
   ]
  },
  {
   "cell_type": "code",
   "execution_count": 17,
   "metadata": {},
   "outputs": [
    {
     "name": "stdout",
     "output_type": "stream",
     "text": [
      "[[1 2 3]\n",
      " [4 5 6]\n",
      " [7 8 9]]\n",
      "[1 2 3]\n",
      "[[ 2  4  6]\n",
      " [ 5  7  9]\n",
      " [ 8 10 12]]\n"
     ]
    }
   ],
   "source": [
    "print(x)\n",
    "print(v)\n",
    "print(x + v) #this adds v elementwise to every column of x"
   ]
  },
  {
   "cell_type": "code",
   "execution_count": 18,
   "metadata": {},
   "outputs": [
    {
     "name": "stdout",
     "output_type": "stream",
     "text": [
      "[[1]\n",
      " [2]\n",
      " [3]]\n",
      "[[1 2]\n",
      " [2 4]\n",
      " [3 6]]\n"
     ]
    }
   ],
   "source": [
    "z = np.array([1,2])\n",
    "#outer product of vectors\n",
    "# reshaping the v vector to a column-like vector \n",
    "print(np.reshape(v, (3,1)))\n",
    "print(np.reshape(v, (3,1))* z)"
   ]
  },
  {
   "cell_type": "markdown",
   "metadata": {},
   "source": [
    "## Using skimage for image processing\n",
    "Images can be interpreted as matrices with RGB Values. These images can be read with skimage and other packages and be processed like numpy arrays."
   ]
  },
  {
   "cell_type": "code",
   "execution_count": 19,
   "metadata": {},
   "outputs": [
    {
     "name": "stdout",
     "output_type": "stream",
     "text": [
      "uint8 (877, 1280, 3)\n",
      "[[[185 157 146]\n",
      "  [174 144 133]\n",
      "  [174 141 124]\n",
      "  ...\n",
      "  [122 117 114]\n",
      "  [124 119 116]\n",
      "  [125 120 117]]\n",
      "\n",
      " [[184 157 146]\n",
      "  [172 143 129]\n",
      "  [173 140 123]\n",
      "  ...\n",
      "  [123 118 115]\n",
      "  [124 119 116]\n",
      "  [125 120 117]]\n",
      "\n",
      " [[180 154 141]\n",
      "  [167 139 125]\n",
      "  [169 138 120]\n",
      "  ...\n",
      "  [123 118 115]\n",
      "  [124 119 116]\n",
      "  [125 120 117]]\n",
      "\n",
      " ...\n",
      "\n",
      " [[135 131 132]\n",
      "  [136 132 133]\n",
      "  [136 132 133]\n",
      "  ...\n",
      "  [ 84  94  70]\n",
      "  [ 86  96  72]\n",
      "  [ 88  98  74]]\n",
      "\n",
      " [[138 134 135]\n",
      "  [134 130 131]\n",
      "  [134 130 131]\n",
      "  ...\n",
      "  [ 88  98  74]\n",
      "  [ 91 101  76]\n",
      "  [ 94 104  79]]\n",
      "\n",
      " [[143 139 140]\n",
      "  [131 127 128]\n",
      "  [130 126 127]\n",
      "  ...\n",
      "  [ 92 102  77]\n",
      "  [ 95 105  80]\n",
      "  [ 99 109  84]]]\n",
      "[[164.118 151.716 148.929 ... 118.153 120.153 121.153]\n",
      " [163.819 150.075 147.929 ... 119.153 120.153 121.153]\n",
      " [160.292 145.776 145.217 ... 119.153 120.153 121.153]\n",
      " ...\n",
      " [132.31  133.31  133.31  ...  88.274  90.274  92.274]\n",
      " [135.31  131.31  131.31  ...  92.274  95.16   98.16 ]\n",
      " [140.31  128.31  127.31  ...  96.16   99.16  103.16 ]]\n"
     ]
    },
    {
     "name": "stderr",
     "output_type": "stream",
     "text": [
      "Lossy conversion from float64 to uint8. Range [0.0, 255.0]. Convert image to uint8 prior to saving to suppress this warning.\n",
      "Lossy conversion from float64 to uint8. Range [0.0, 255.0]. Convert image to uint8 prior to saving to suppress this warning.\n",
      "Lossy conversion from float64 to uint8. Range [3.499999999999659, 254.0]. Convert image to uint8 prior to saving to suppress this warning.\n"
     ]
    }
   ],
   "source": [
    "from skimage import transform, io\n",
    "\n",
    "img = io.imread('img/raccoon.jpg')\n",
    "print(img.dtype, img.shape)\n",
    "print(img)\n",
    "img_tinted = img * [1, 0.8, 0.9] #changes the rgb values of the image\n",
    "img_bw = np.dot(img[...,:3], [0.299, 0.587, 0.114]) #formula for greyscale conversion\n",
    "print(img_bw)\n",
    "img_resized = transform.resize(img, (200, 200), mode='symmetric', preserve_range=True) #resizes the image\n",
    "\n",
    "io.imsave(arr=img_tinted, fname='img/raccoon_tinted.jpg')\n",
    "io.imsave(arr=img_bw, fname='img/raccoon_bw.jpg')\n",
    "io.imsave(arr=img_resized, fname='img/raccoon_resized.jpg')"
   ]
  },
  {
   "cell_type": "code",
   "execution_count": null,
   "metadata": {},
   "outputs": [],
   "source": []
  }
 ],
 "metadata": {
  "kernelspec": {
   "display_name": "Python 3 (ipykernel)",
   "language": "python",
   "name": "python3"
  },
  "language_info": {
   "codemirror_mode": {
    "name": "ipython",
    "version": 3
   },
   "file_extension": ".py",
   "mimetype": "text/x-python",
   "name": "python",
   "nbconvert_exporter": "python",
   "pygments_lexer": "ipython3",
   "version": "3.10.6"
  }
 },
 "nbformat": 4,
 "nbformat_minor": 2
}
