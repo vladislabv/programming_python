{
 "cells": [
  {
   "cell_type": "markdown",
   "metadata": {},
   "source": [
    "### Exercise x.x\n",
    "Implement a Class LLSQ that can do the calculation of the linear least squares algorithm with given Data\n",
    "The class should be initialized with a list of functions that constitute the function to fit. e.g. y=a * np.sin + b * np.cos -> [np.sin, np.cos]\n",
    "One class method should involve the calculation of the covariance matrix and calculation of the fit parameters."
   ]
  },
  {
   "cell_type": "code",
   "execution_count": 1,
   "metadata": {},
   "outputs": [],
   "source": [
    "import numpy as np"
   ]
  },
  {
   "cell_type": "code",
   "execution_count": 2,
   "metadata": {},
   "outputs": [],
   "source": [
    "### your code here\n",
    "class linleastsquares():\n",
    "   \n",
    "    def __init__(self, functionlist):\n",
    "        \n",
    "        '''\n",
    "        Initiate the object with the wanted list of functions\n",
    "        '''\n",
    "        self.functionlist=functionlist\n",
    "        \n",
    "    \n",
    "    def fit(self, x_values, y_values, y_errors, print_matrix=False):\n",
    "        \n",
    "        \"\"\"\n",
    "        Calculate the parameters for the linear leastsquares model\n",
    "        of functions provided as argumen functionlist for the x_values\n",
    "        and y_values with errors y_errors\n",
    "        \"\"\"        \n",
    "        # set dimension of the designmatrix\n",
    "        dim = (len(x_values), len(self.functionlist))\n",
    "        A = np.zeros(dim)\n",
    "\n",
    "        # fill design matrix with function values\n",
    "        for i, func in enumerate(self.functionlist):\n",
    "            A[:,i] = func(x_values)\n",
    "        #cast to np.matrix type\n",
    "        A = np.matrix(A)\n",
    "\n",
    "        if print_matrix is True:\n",
    "            print(A)\n",
    "            \n",
    "        # cast y-values into a column vector\n",
    "        y = np.matrix(y_values).T\n",
    "        \n",
    "        # create diagonal weighting matrix\n",
    "        W = np.matrix(np.diag(1/(y_errors**2)))\n",
    "\n",
    "        # do the calculations weighted LinSquares\n",
    "        invATA = (A.T * W * A).I\n",
    "        params = invATA * A.T * W * y\n",
    "        cov = invATA\n",
    "\n",
    "        return np.array(params.flat), cov"
   ]
  },
  {
   "cell_type": "code",
   "execution_count": 4,
   "metadata": {},
   "outputs": [
    {
     "name": "stdout",
     "output_type": "stream",
     "text": [
      "[[ 0.          1.        ]\n",
      " [-0.98803162  0.15425145]\n",
      " [-0.30481062 -0.95241298]\n",
      " [ 0.89399666 -0.44807362]\n",
      " [ 0.58061118  0.81418097]\n",
      " [-0.71487643  0.69925081]\n",
      " [-0.80115264 -0.59846007]\n",
      " [ 0.46771852 -0.88387747]\n",
      " [ 0.94544515  0.32578131]\n",
      " [-0.17604595  0.98438195]\n",
      " [-0.99975584 -0.02209662]\n",
      " [-0.13238163 -0.99119882]]\n"
     ]
    }
   ],
   "source": [
    "# read data\n",
    "# maybe get different data -> different fit functions\n",
    "x, y  = np.genfromtxt(\"data/llsq/data.txt\", unpack=True)\n",
    "\n",
    "y_err = np.ones(len(y)) * 0.011\n",
    "\n",
    "# linear leastsquares fit object for a*sin + b*cos\n",
    "llsq = linleastsquares([np.sin, np.cos])\n",
    "\n",
    "(a, b), cov_ab = llsq.fit(x, y, y_err, True)\n"
   ]
  },
  {
   "cell_type": "markdown",
   "metadata": {},
   "source": [
    "### Error propagation\n",
    "Statistical errors from measurements/fits have to be taken into account when calculating values from fit parameters"
   ]
  },
  {
   "cell_type": "code",
   "execution_count": 11,
   "metadata": {},
   "outputs": [
    {
     "name": "stdout",
     "output_type": "stream",
     "text": [
      "Parameters\n",
      "a = 0.013282587762236876 ± 0.004682602990324402\n",
      "b = -0.0073876518589510165 ± 0.004321125737056743\n",
      "___________________\n",
      "Pearson correlation of fit values\n",
      "ρ = -0.010741281100605746\n",
      "___________________\n",
      "Parameter covariance matrix\n",
      "Cov(a,b) =\n",
      " [[ 2.19267708e-05 -2.17340331e-07]\n",
      " [-2.17340331e-07  1.86721276e-05]]\n",
      "___________________\n",
      "Calculated values with errors\n",
      "A0 = 0.015198833430582336 ± 0.004619791184445168\n",
      "δ = -2.078380050779103 ± 0.28872049093935437\n",
      "___________________\n",
      "Pearson correlation of calculated values\n",
      "ρ = -0.0625414297454016\n",
      "___________________\n",
      "Calculated values covariance matrix\n",
      "Cov(A0, δ) =\n",
      " [[ 2.13424706e-05 -8.34195338e-05]\n",
      " [-8.34195338e-05  8.33595219e-02]]\n"
     ]
    }
   ],
   "source": [
    "# Berechnen von A0 und delta:\n",
    "A0 = np.sqrt(a**2 + b**2)\n",
    "delta = -np.arctan2(a,b)\n",
    "\n",
    "# Error propagation with BVB.T B is Jacobimatrix of the functions\n",
    "B = np.matrix([[a/np.sqrt(a**2+b**2), b/np.sqrt(a**2+b**2)],\n",
    "               [b/(b**2 + a**2), -a/(a**2 + b**2)]])\n",
    "\n",
    "cov_2 = B*cov_ab*B.T\n",
    "print('Parameters')\n",
    "print(\"a =\", a, u\"±\", np.sqrt(cov_ab[0,0]))\n",
    "print(\"b =\", b, u\"±\", np.sqrt(cov_ab[1,1]))\n",
    "print('___________________')\n",
    "print('Pearson correlation of fit values')\n",
    "print(u\"ρ =\", cov_ab[0,1]/(np.sqrt(cov_ab[0,0] * cov_ab[1,1])))\n",
    "print('___________________')\n",
    "print('Parameter covariance matrix')\n",
    "print(\"Cov(a,b) =\\n\", cov_ab)\n",
    "print('___________________')\n",
    "print('Calculated values with errors')\n",
    "print(\"A0 =\", A0, u\"±\", np.sqrt(cov_2[0,0]))\n",
    "print(u\"δ =\", delta, u\"±\", np.sqrt(cov_2[1,1]))\n",
    "print('___________________')\n",
    "print('Pearson correlation of calculated values')\n",
    "print(u\"ρ =\", cov_2[0,1]/(np.sqrt(cov_2[0,0] * cov_2[1,1])))\n",
    "print('___________________')\n",
    "print('Calculated values covariance matrix')\n",
    "print(u\"Cov(A0, δ) =\\n\", cov_2)"
   ]
  },
  {
   "cell_type": "code",
   "execution_count": null,
   "metadata": {},
   "outputs": [],
   "source": []
  }
 ],
 "metadata": {
  "kernelspec": {
   "display_name": "Python 3 (ipykernel)",
   "language": "python",
   "name": "python3"
  },
  "language_info": {
   "codemirror_mode": {
    "name": "ipython",
    "version": 3
   },
   "file_extension": ".py",
   "mimetype": "text/x-python",
   "name": "python",
   "nbconvert_exporter": "python",
   "pygments_lexer": "ipython3",
   "version": "3.10.6"
  }
 },
 "nbformat": 4,
 "nbformat_minor": 2
}
