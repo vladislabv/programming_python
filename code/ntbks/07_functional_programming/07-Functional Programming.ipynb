{
 "cells": [
  {
   "cell_type": "markdown",
   "metadata": {},
   "source": [
    "# Functional programming and why it is great\n",
    "\n",
    "- Functional programming is a programming paradigm that works on immutable data and operates on mathematical functions\n",
    "- The output of a function only depends on the input parameters and the global program state is not relevant\n",
    "- Functional programming can be used to operate efficiently on for example lists"
   ]
  },
  {
   "cell_type": "markdown",
   "metadata": {},
   "source": [
    "## Fibonacci as an example\n",
    "\n",
    "### Recursive version"
   ]
  },
  {
   "cell_type": "code",
   "execution_count": 1,
   "metadata": {},
   "outputs": [
    {
     "name": "stdout",
     "output_type": "stream",
     "text": [
      "0\n",
      "1\n",
      "1\n",
      "2\n",
      "3\n",
      "5\n",
      "8\n",
      "13\n",
      "21\n",
      "34\n"
     ]
    }
   ],
   "source": [
    "def fibonacci(n):\n",
    "    if n <= 1:\n",
    "        return n\n",
    "    else:\n",
    "        return fibonacci(n-2) + fibonacci(n-1)\n",
    "\n",
    "for n in range(10):\n",
    "    print(fibonacci(n))"
   ]
  },
  {
   "cell_type": "markdown",
   "metadata": {},
   "source": [
    "### Functional version"
   ]
  },
  {
   "cell_type": "code",
   "execution_count": 2,
   "metadata": {},
   "outputs": [
    {
     "name": "stdout",
     "output_type": "stream",
     "text": [
      "[0, 1, 1, 2, 3, 5, 8, 13, 21, 34]\n"
     ]
    }
   ],
   "source": [
    "fibonacci = (lambda n, first=0, second=1:\n",
    "    [] if n == 0 else\n",
    "    [first] + fibonacci(n - 1, second, first + second))\n",
    "print(fibonacci(10))"
   ]
  },
  {
   "cell_type": "markdown",
   "metadata": {},
   "source": [
    "### But why would we do that?\n",
    "\n",
    "- it looks less readable\n",
    "    - everything is done in one line and there is function we can call multiple times\n",
    "- there are new operations\n",
    "\n",
    "\n",
    "### There are good use cases\n",
    "\n",
    "- functions can be called to other functions\n",
    "- map, filter and reduce are handled memory efficient\n",
    "\n",
    "#### some more examples"
   ]
  },
  {
   "cell_type": "code",
   "execution_count": 3,
   "metadata": {},
   "outputs": [
    {
     "name": "stdout",
     "output_type": "stream",
     "text": [
      "3\n"
     ]
    }
   ],
   "source": [
    "polynomial = lambda x: x**2+2*x-5\n",
    "print(polynomial(2))"
   ]
  },
  {
   "cell_type": "markdown",
   "metadata": {},
   "source": [
    "#### Filter lists\n",
    "- all these codeblocks are equivalent.\n",
    "- the more complex tasks get the more useful a lambda function can be"
   ]
  },
  {
   "cell_type": "code",
   "execution_count": 4,
   "metadata": {},
   "outputs": [
    {
     "name": "stdout",
     "output_type": "stream",
     "text": [
      "<filter object at 0x7fdc5036c1d0>\n",
      "[3, 6, 9]\n",
      "[3, 6, 9]\n",
      "[3, 6, 9]\n"
     ]
    }
   ],
   "source": [
    "# with lambda\n",
    "mult3 = filter(lambda x: x % 3 == 0, [1, 2, 3, 4, 5, 6, 7, 8, 9])\n",
    "print(mult3) #the function only give a pointer to an object\n",
    "print(list(mult3)) #the values are returned via the list() operator\n",
    "\n",
    "#with a normal function\n",
    "def filterfunc(x):\n",
    "    return x % 3 == 0\n",
    "mult3 = filter(filterfunc, [1, 2, 3, 4, 5, 6, 7, 8, 9])\n",
    "print(list(mult3))\n",
    "\n",
    "# as a list comprehension\n",
    "mult3 = [x for x in [1, 2, 3, 4, 5, 6, 7, 8, 9] if x % 3 == 0]\n",
    "print(mult3)"
   ]
  },
  {
   "cell_type": "markdown",
   "metadata": {},
   "source": [
    "#### You can return a function from another function\n",
    "\n",
    "- used in function wrappers like decorators"
   ]
  },
  {
   "cell_type": "code",
   "execution_count": 5,
   "metadata": {},
   "outputs": [
    {
     "name": "stdout",
     "output_type": "stream",
     "text": [
      "7\n"
     ]
    }
   ],
   "source": [
    "def transform(n):\n",
    "    return lambda x: x+n\n",
    "\n",
    "plus3 = transform(3)\n",
    "print(plus3(4))\n"
   ]
  },
  {
   "cell_type": "markdown",
   "metadata": {},
   "source": [
    "#### Reduce\n",
    "- performs computation on a list and returns the result\n",
    "- useful for the product of all values of a list\n",
    "- useful for formatting lists"
   ]
  },
  {
   "cell_type": "code",
   "execution_count": 6,
   "metadata": {},
   "outputs": [
    {
     "name": "stdout",
     "output_type": "stream",
     "text": [
      "24\n"
     ]
    }
   ],
   "source": [
    "from functools import reduce\n",
    "#syntax is reduce(function, list)\n",
    "reduce(lambda a, b: '{}, {}'.format(a, b), [1, 2, 3, 4, 5, 6, 7, 8, 9])\n",
    "\n",
    "product = reduce((lambda x, y: x*y), [1, 2, 3, 4])\n",
    "print(product)"
   ]
  },
  {
   "cell_type": "markdown",
   "metadata": {},
   "source": [
    "#### Custom sorting"
   ]
  },
  {
   "cell_type": "code",
   "execution_count": 7,
   "metadata": {},
   "outputs": [
    {
     "data": {
      "text/plain": [
       "[5, 4, 6, 3, 7, 2, 8, 1, 9]"
      ]
     },
     "execution_count": 7,
     "metadata": {},
     "output_type": "execute_result"
    }
   ],
   "source": [
    "sorted([1, 2, 3, 4, 5, 6, 7, 8, 9], key=lambda x: abs(5-x))"
   ]
  },
  {
   "cell_type": "markdown",
   "metadata": {},
   "source": [
    "#### map\n",
    "- also acts like a reference to a function"
   ]
  },
  {
   "cell_type": "code",
   "execution_count": 8,
   "metadata": {},
   "outputs": [
    {
     "name": "stdout",
     "output_type": "stream",
     "text": [
      "<map object at 0x7fdc503669d0>\n"
     ]
    },
    {
     "data": {
      "text/plain": [
       "[1.0, 2.0, 3.0, 4.0]"
      ]
     },
     "execution_count": 8,
     "metadata": {},
     "output_type": "execute_result"
    }
   ],
   "source": [
    "from math import sqrt\n",
    "print(map(sqrt, [1, 4, 9, 16]))\n",
    "list(map(sqrt, [1, 4, 9, 16]))"
   ]
  },
  {
   "cell_type": "code",
   "execution_count": 9,
   "metadata": {},
   "outputs": [
    {
     "data": {
      "text/plain": [
       "[17, 10, 19]"
      ]
     },
     "execution_count": 9,
     "metadata": {},
     "output_type": "execute_result"
    }
   ],
   "source": [
    "a = [1, 2, 3]\n",
    "b = [17, 12, 11, 10] \n",
    "c = [-1, -4, 5, 9]\n",
    " \n",
    "list(map(lambda x, y, z : x+y+z, a, b, c)) \n",
    "#map stops when the end of the shortest list is reached"
   ]
  },
  {
   "cell_type": "markdown",
   "metadata": {},
   "source": [
    "#### Another reason is the speed and scalability"
   ]
  },
  {
   "cell_type": "code",
   "execution_count": 10,
   "metadata": {},
   "outputs": [],
   "source": [
    "import time \n",
    "\n",
    "BIG = 20000000\n",
    "\n",
    "def f(k):\n",
    "    return 2*k\n",
    "\n",
    "def benchmark(function, function_name):\n",
    "    start = time.time()\n",
    "    function()\n",
    "    end = time.time()\n",
    "    print(\"{0} seconds for {1}\".format((end - start), function_name))"
   ]
  },
  {
   "cell_type": "code",
   "execution_count": 11,
   "metadata": {},
   "outputs": [
    {
     "name": "stdout",
     "output_type": "stream",
     "text": [
      "3.0227930545806885 seconds for list a\n",
      "2.172605037689209 seconds for list b\n",
      "1.737626075744629 seconds for list c\n",
      "3.0994415283203125e-06 seconds for list d\n"
     ]
    }
   ],
   "source": [
    "#after this day pls never do this anymore\n",
    "def list_a():\n",
    "    list_a = []\n",
    "    for i in range(BIG):\n",
    "        list_a.append(f(i))\n",
    "        \n",
    "#list comprehensions are faster and sometimes necessary  \n",
    "def list_b():\n",
    "    list_b = [f(i) for i in range(BIG)]\n",
    "\n",
    "#if possible use map (in python 2 map gave out the list)\n",
    "def list_c():\n",
    "    list_c = list(map(f, range(BIG)))\n",
    "\n",
    "# for internal handling this is the fastest way possible since it is only a generator function\n",
    "def list_d():\n",
    "    list_d = map(f, range(BIG))\n",
    "benchmark(list_a, \"list a\")\n",
    "benchmark(list_b, \"list b\")\n",
    "benchmark(list_c, \"list c\")\n",
    "benchmark(list_d, \"list d\")"
   ]
  },
  {
   "cell_type": "markdown",
   "metadata": {},
   "source": [
    "## Exercise 7.1\n",
    "\n",
    "### Write a list comprehension that creates a list of tuples. Each tuple has the value of a temperature in Celsius and Fahrenheit. Test this with a list of Fahrenheit values from 0° to 100° in steps of 5°"
   ]
  },
  {
   "cell_type": "code",
   "execution_count": 12,
   "metadata": {},
   "outputs": [
    {
     "name": "stdout",
     "output_type": "stream",
     "text": [
      "[(0.0, -17.77777777777778), (5.0, -15.0), (10.0, -12.222222222222221), (15.0, -9.444444444444445), (20.0, -6.666666666666667), (25.0, -3.888888888888889), (30.0, -1.1111111111111112), (35.0, 1.6666666666666667), (40.0, 4.444444444444445), (45.0, 7.222222222222222), (50.0, 10.0), (55.0, 12.777777777777779), (60.0, 15.555555555555555), (65.0, 18.333333333333332), (70.0, 21.11111111111111), (75.0, 23.88888888888889), (80.0, 26.666666666666668), (85.0, 29.444444444444443), (90.0, 32.22222222222222), (95.0, 35.0)]\n"
     ]
    }
   ],
   "source": [
    "###Your Code here\n",
    "F = list(range(0,100,5))\n",
    "C = [(x-32)*5/9 for x in F]\n",
    "F = [(x*9/5 +32) for x in C]\n",
    "\n",
    "CF = list(zip(F,C))\n",
    "print(CF)"
   ]
  },
  {
   "cell_type": "markdown",
   "metadata": {},
   "source": [
    "## Exercise 7.2\n",
    "\n",
    "### Write a class Employee that has an ID, a name and an age. Sort a list of three generated Employees by their age by using list comprehension and custom key sorting."
   ]
  },
  {
   "cell_type": "code",
   "execution_count": 13,
   "metadata": {},
   "outputs": [
    {
     "name": "stdout",
     "output_type": "stream",
     "text": [
      "['Bob', 'Alice', 'Alex']\n"
     ]
    }
   ],
   "source": [
    "### Your code here\n",
    "class Employee:\n",
    "    def __init__(self, ID, name, age):\n",
    "        self.ID = ID\n",
    "        self.name = name\n",
    "        self.age = age\n",
    "\n",
    "Alex = Employee(1234, 'Alex', 25)\n",
    "Alice = Employee(9001, 'Alice', 23)\n",
    "Bob = Employee(8592, 'Bob', 18)\n",
    "\n",
    "L = [Alex, Alice, Bob]\n",
    "\n",
    "print([item.name for item in sorted(L, key=lambda x: x.age)])"
   ]
  },
  {
   "cell_type": "markdown",
   "metadata": {},
   "source": [
    "## Exercise 7.3\n",
    "\n",
    "### Filter and print the names of the employees that have an ID greater than some number in order of the IDs"
   ]
  },
  {
   "cell_type": "code",
   "execution_count": 14,
   "metadata": {},
   "outputs": [
    {
     "name": "stdout",
     "output_type": "stream",
     "text": [
      "['Bob', 'Alice']\n"
     ]
    }
   ],
   "source": [
    "print([item.name for item in sorted(filter(lambda x: x.ID>2000, L), key=lambda i: i.ID)])"
   ]
  }
 ],
 "metadata": {
  "kernelspec": {
   "display_name": "Python 3 (ipykernel)",
   "language": "python",
   "name": "python3"
  },
  "language_info": {
   "codemirror_mode": {
    "name": "ipython",
    "version": 3
   },
   "file_extension": ".py",
   "mimetype": "text/x-python",
   "name": "python",
   "nbconvert_exporter": "python",
   "pygments_lexer": "ipython3",
   "version": "3.10.6"
  }
 },
 "nbformat": 4,
 "nbformat_minor": 2
}
