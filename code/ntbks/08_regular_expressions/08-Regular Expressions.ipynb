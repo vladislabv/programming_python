{
 "cells": [
  {
   "cell_type": "markdown",
   "metadata": {},
   "source": [
    "# Regular expressions\n",
    "\n",
    "- are a sequence of characters that define a search pattern\n",
    "- used for find and replace algorithms"
   ]
  },
  {
   "cell_type": "markdown",
   "metadata": {},
   "source": [
    "### The \"in\"-operator\n",
    "\n",
    "- checks if a character or substring is contained in a string"
   ]
  },
  {
   "cell_type": "code",
   "execution_count": 2,
   "metadata": {},
   "outputs": [
    {
     "data": {
      "text/plain": [
       "True"
      ]
     },
     "execution_count": 2,
     "metadata": {},
     "output_type": "execute_result"
    }
   ],
   "source": [
    "s = 'an expression'\n",
    "'expression' in s"
   ]
  },
  {
   "cell_type": "markdown",
   "metadata": {},
   "source": [
    "### The \"re\"-module\n",
    "\n",
    "- has regular expression matching algorithms\n"
   ]
  },
  {
   "cell_type": "code",
   "execution_count": 4,
   "metadata": {},
   "outputs": [
    {
     "name": "stdout",
     "output_type": "stream",
     "text": [
      "<re.Match object; span=(2, 5), match='cat'>\n",
      "None\n"
     ]
    }
   ],
   "source": [
    "import re\n",
    "x = re.search(\"cat\",\"A cat and a rat can't be friends.\")\n",
    "#prints if there is a math and the position where the match is\n",
    "print(x)\n",
    "#returns None Object if ther eis no match\n",
    "y = re.search(\"cow\",\"A cat and a rat can't be friends.\")\n",
    "print(y)"
   ]
  },
  {
   "cell_type": "markdown",
   "metadata": {},
   "source": [
    "### Placeholders\n",
    "- r' .at ' can be used to find all 3 letter words ending with at\n",
    "    - this might lead to overmatching though\n",
    "\n",
    "- r'M[ae][iy]er is an expression that accepts all combinations of words within the brackets [...]\n",
    "\n",
    "- the expression [-a-z] selects all the small letters from a to z and the -\n",
    "\n",
    "- [A-Za-z] defines all upper case and lowercase characters from a to z\n",
    "\n",
    "- [n-m] with n, m integers < 10 defines a range of accepted numbers\n",
    "\n",
    "- [^0-9] is a negation placeholder. Everything BUT a number is accepted\n",
    "\n",
    "- [a^bc] however defines a or ^ or b or c"
   ]
  },
  {
   "cell_type": "markdown",
   "metadata": {},
   "source": [
    "### Predefined placeholders\n",
    "\n",
    "- since there are common expression classes there are predefined placeholders\n",
    "\n",
    "    - \\d a digit\n",
    "    - \\D NON digit = [^0-9]\n",
    "    - \\s whitespace = [\\t\\n\\r\\f\\v] tabs newlines etc.\n",
    "    - \\S non whitespace = [^\\t\\n\\r\\f\\v]\n",
    "    - \\w alphanumerical character including \"_\". Also includes LOCALE e.g german umlaut\n",
    "    - \\W complement of \\w\n",
    "    - \\b empty string at the start or end of a string\n",
    "    - \\B empty string neither at the satrt or end of a string\n",
    "    - \\\\ a backslash\n",
    "    \n",
    "    \n",
    "    "
   ]
  },
  {
   "cell_type": "code",
   "execution_count": 11,
   "metadata": {},
   "outputs": [
    {
     "name": "stdout",
     "output_type": "stream",
     "text": [
      "<re.Match object; span=(0, 5), match='Mayer'>\n",
      "None\n",
      "<re.Match object; span=(40, 45), match='Mayer'>\n"
     ]
    }
   ],
   "source": [
    "import re\n",
    "s1 = \"Mayer is a very common Name\"\n",
    "s2 = \"He is called Meyer but he isn't German.\"\n",
    "#[^...] ensures we are only looking at the satrt of a string\n",
    "print(re.search(r\"^M[ae][iy]er\", s1)) \n",
    "#the match algorithms cant find the expression because it is not at the beginning of a string\n",
    "print(re.search(r\"^M[ae][iy]er\", s2)) \n",
    "# when the strings are combined with a newline the re.M (multiline) option also finds the substring\n",
    "print(re.search(r\"^M[ae][iy]er\", s2+'\\n'+s1, re.M))"
   ]
  },
  {
   "cell_type": "markdown",
   "metadata": {},
   "source": [
    "### Optional placeholders\n",
    "- r\"M[ae][iy]e?r\" is an expression where the last e is optional\n",
    "- this is also useful for dates e.g. r'Feb(ruary)?'\n",
    "### Quantifier\n",
    "- r\"[0-9]*\" means that any series (also empty series) of digits is allowed\n",
    "- r\".*\" allows any series of characters"
   ]
  },
  {
   "cell_type": "markdown",
   "metadata": {},
   "source": [
    "### Exercise 8.1\n",
    "\n",
    "#### Write a regular expression matching strings that begin with at least on digit followed by a space "
   ]
  },
  {
   "cell_type": "code",
   "execution_count": 7,
   "metadata": {},
   "outputs": [
    {
     "name": "stdout",
     "output_type": "stream",
     "text": [
      "<re.Match object; span=(0, 2), match='1 '>\n",
      "<re.Match object; span=(0, 3), match='11 '>\n"
     ]
    }
   ],
   "source": [
    "import re\n",
    "s_test_1 = \"1 man cannot handle manufacturing a table.\"\n",
    "s_test_1_1 = \"11 man cannot handle manufacturing a table.\"\n",
    "s_test_2 = \"I cannot read this text, because I'm blind.\"\n",
    "pattern = r'^\\d+ '\n",
    "print(re.search(pattern, s_test_1))\n",
    "print(re.search(pattern, s_test_1_1))\n",
    "\n",
    "\n",
    "\n",
    "\n",
    "\n",
    "\n",
    "\n",
    "\n",
    "\n",
    "\n",
    "\n",
    "\n",
    "\n",
    "\n",
    "\n",
    "\n",
    "\n",
    "\n"
   ]
  },
  {
   "cell_type": "code",
   "execution_count": 17,
   "metadata": {},
   "outputs": [
    {
     "name": "stdout",
     "output_type": "stream",
     "text": [
      "<re.Match object; span=(0, 5), match='9111 '>\n",
      "None\n"
     ]
    }
   ],
   "source": [
    "test = \"9111 \"\n",
    "test2 = '234'\n",
    "print(re.match(r\"^\\d\\d* \", test))\n",
    "print(re.match(r\"^\\d\\d* \", test2))"
   ]
  },
  {
   "cell_type": "markdown",
   "metadata": {},
   "source": [
    "### The \"+\"-operator and the {} Syntax\n",
    "- the \"+\"-operator ensures that atleast one occurence of the expression is needed\n",
    "- the {}-operator can specify a defined number of occurences\n",
    "    -\\d{4} means that exactly 4 digits are wanted here"
   ]
  },
  {
   "cell_type": "markdown",
   "metadata": {},
   "source": [
    "### Exercise 8.2\n",
    "\n",
    "#### Write a regular expression that can parse all postal codes of germany"
   ]
  },
  {
   "cell_type": "code",
   "execution_count": 9,
   "metadata": {},
   "outputs": [
    {
     "name": "stdout",
     "output_type": "stream",
     "text": [
      "<re.Match object; span=(0, 14), match='58644 Iserlohn'>\n",
      "<re.Match object; span=(0, 13), match='48143 Münster'>\n"
     ]
    }
   ],
   "source": [
    "pattern_zip = '\\d{5} \\w+'\n",
    "test_plz = \"58644 Iserlohn\"\n",
    "test_plz2 = \"48143 Münster\"\n",
    "print(re.match(pattern_zip, test_plz))\n",
    "print(re.match(pattern_zip, test_plz2)) #if LOCALE is set correctly this works"
   ]
  },
  {
   "cell_type": "code",
   "execution_count": 19,
   "metadata": {},
   "outputs": [
    {
     "name": "stdout",
     "output_type": "stream",
     "text": [
      "<re.Match object; span=(0, 14), match='58644 Iserlohn'>\n",
      "<re.Match object; span=(0, 13), match='48143 Münster'>\n"
     ]
    }
   ],
   "source": [
    "expr = r\"\\d{5} \\w+\"\n",
    "test_plz = \"58644 Iserlohn\"\n",
    "test_plz2 = \"48143 Münster\"\n",
    "print(re.match(expr, test_plz))\n",
    "print(re.match(expr, test_plz2)) #if LOCALE is set correctly this works"
   ]
  },
  {
   "cell_type": "markdown",
   "metadata": {},
   "source": [
    "### Accessing the values of the match-object\n",
    "- to do stuff with the expression we have to access the values\n"
   ]
  },
  {
   "cell_type": "code",
   "execution_count": 21,
   "metadata": {},
   "outputs": [
    {
     "name": "stdout",
     "output_type": "stream",
     "text": [
      "232454\n",
      "(17, 23)\n",
      "17\n",
      "23\n",
      "17\n",
      "23\n"
     ]
    }
   ],
   "source": [
    "import re\n",
    "mo = re.search(\"[0-9]+\", \"Customer number: 232454, Date: February 12, 2011\")\n",
    "print(mo.group())\n",
    "print(mo.span())\n",
    "print(mo.start())\n",
    "print(mo.end())\n",
    "print(mo.span()[0])\n",
    "print(mo.span()[1])"
   ]
  },
  {
   "cell_type": "markdown",
   "metadata": {},
   "source": [
    "### More regular expression operations\n",
    "- finding ALL matching substrings: re.findall(pattern, string [,flags])"
   ]
  },
  {
   "cell_type": "markdown",
   "metadata": {},
   "source": [
    "### Exercise 8.3\n",
    "\n",
    "#### Use the find all method to find all substrings enting with \"at\" in the sentence: \"A fat cat doesn't eat oat but a rat eats bats.\""
   ]
  },
  {
   "cell_type": "code",
   "execution_count": 13,
   "metadata": {},
   "outputs": [
    {
     "name": "stdout",
     "output_type": "stream",
     "text": [
      "['fat', 'cat', 'eat', 'oat', 'rat', 'eat', 'bat']\n"
     ]
    }
   ],
   "source": [
    "test_str = \"A fat cat doesn't eat oat but a rat eats bats.\"\n",
    "mo = re.findall(r'\\w*at', test_str)\n",
    "print(mo)"
   ]
  },
  {
   "cell_type": "code",
   "execution_count": 22,
   "metadata": {},
   "outputs": [
    {
     "name": "stdout",
     "output_type": "stream",
     "text": [
      "['fat', 'cat', 'eat', 'oat', 'rat', 'eat', 'bat']\n"
     ]
    }
   ],
   "source": [
    "t=\"A fat cat doesn't eat oat but a rat eats bats.\"\n",
    "print(re.findall(r\"\\w*at\", t))"
   ]
  },
  {
   "cell_type": "markdown",
   "metadata": {},
   "source": [
    "### Logical  operations\n",
    "- logical operations are also possible in regular expressions\n",
    "- the | is the logical or in python"
   ]
  },
  {
   "cell_type": "code",
   "execution_count": 26,
   "metadata": {},
   "outputs": [
    {
     "name": "stdout",
     "output_type": "stream",
     "text": [
      "destination is London\n"
     ]
    }
   ],
   "source": [
    "import re\n",
    "str = \"The destination is London!\"\n",
    "mo = re.search(r\"destination.*(London|Paris|Zurich|Strasbourg)\",str)\n",
    "if mo:\n",
    "    print(mo.group())"
   ]
  },
  {
   "cell_type": "markdown",
   "metadata": {},
   "source": [
    "### Flags\n",
    "- re can be run with flags\n",
    "    - re.I ignore lower and upper case\n",
    "    - re.L LOCALE is forced\n",
    "    - re.M multiline\n",
    "    - re.S \".\" also fits the newline \\n\n",
    "    - re.U Unicode\n",
    "    - re.X verbose regular expressions are allowed. Meaning spaces and tabs are ignored"
   ]
  },
  {
   "cell_type": "markdown",
   "metadata": {},
   "source": [
    "### Splitting strings\n",
    "- the built in split function can split strings at regular expressions\n",
    "- re.split can also split strings at regular expressions"
   ]
  },
  {
   "cell_type": "code",
   "execution_count": 32,
   "metadata": {},
   "outputs": [
    {
     "name": "stdout",
     "output_type": "stream",
     "text": [
      "['Hello,', 'this', 'is']\n",
      "['Hello,', 'this', 'is']\n",
      "['Hello', ' this is']\n",
      "['Hello', ' this is']\n"
     ]
    }
   ],
   "source": [
    "teststring = 'Hello, this is'\n",
    "print(teststring.split())\n",
    "print(re.split(r' ', teststring))\n",
    "print(teststring.split(','))\n",
    "print(re.split(r',', teststring))"
   ]
  },
  {
   "cell_type": "markdown",
   "metadata": {},
   "source": [
    "### Find and replace with re.sub"
   ]
  },
  {
   "cell_type": "code",
   "execution_count": 35,
   "metadata": {},
   "outputs": [
    {
     "name": "stdout",
     "output_type": "stream",
     "text": [
      "Yes this is\n",
      "no this is\n"
     ]
    }
   ],
   "source": [
    "string = 'Yes this is'\n",
    "print(string)\n",
    "res = re.sub(r'[Yy]es','no', string)\n",
    "print(res)"
   ]
  },
  {
   "cell_type": "code",
   "execution_count": null,
   "metadata": {},
   "outputs": [],
   "source": []
  }
 ],
 "metadata": {
  "kernelspec": {
   "display_name": "Python 3 (ipykernel)",
   "language": "python",
   "name": "python3"
  },
  "language_info": {
   "codemirror_mode": {
    "name": "ipython",
    "version": 3
   },
   "file_extension": ".py",
   "mimetype": "text/x-python",
   "name": "python",
   "nbconvert_exporter": "python",
   "pygments_lexer": "ipython3",
   "version": "3.10.6"
  }
 },
 "nbformat": 4,
 "nbformat_minor": 2
}
