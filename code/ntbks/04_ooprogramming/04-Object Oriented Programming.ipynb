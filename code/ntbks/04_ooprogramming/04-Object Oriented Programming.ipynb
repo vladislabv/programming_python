{
 "cells": [
  {
   "cell_type": "markdown",
   "metadata": {},
   "source": [
    "# Object Oriented Programming in python"
   ]
  },
  {
   "cell_type": "markdown",
   "metadata": {},
   "source": [
    "Object oriented programming is a paradigm where objects are a central structure where properties and behaviours are bundled into.\n",
    "\n",
    "An object can be anything from a person with a name, age or address to a more abstract construct.\n",
    "\n",
    "Object oriented programming is an intuitive way of structuring programs similar to the real world."
   ]
  },
  {
   "cell_type": "markdown",
   "metadata": {},
   "source": [
    "It is important to distiguish between classes and objects. Classes are blueprints of an object. The object is an instance of this blueprint with actual values assigned to the parameters."
   ]
  },
  {
   "cell_type": "markdown",
   "metadata": {},
   "source": [
    "## How to define a class in python"
   ]
  },
  {
   "cell_type": "code",
   "execution_count": 1,
   "metadata": {},
   "outputs": [],
   "source": [
    "class Dog:\n",
    "    pass"
   ]
  },
  {
   "cell_type": "markdown",
   "metadata": {},
   "source": [
    "This is the simplest way to create a class in python 3. \n",
    "The pass is just a keyword as a placeholder for code"
   ]
  },
  {
   "cell_type": "markdown",
   "metadata": {},
   "source": [
    "Since objects are supposed to have properties one can give the class parameters to initialize an object with. \n",
    "The \" __init __ \" function is called when an object is instantiated."
   ]
  },
  {
   "cell_type": "code",
   "execution_count": 2,
   "metadata": {},
   "outputs": [],
   "source": [
    "class Dog:\n",
    "    #Initializer\n",
    "    def __init__(self, name, age):\n",
    "        self.name = name\n",
    "        self.age = age"
   ]
  },
  {
   "cell_type": "markdown",
   "metadata": {},
   "source": [
    "We can now give the Dog a name and an age when we create the object."
   ]
  },
  {
   "cell_type": "markdown",
   "metadata": {},
   "source": [
    "A class can also have class-wide attributes that are valid for every object of the class."
   ]
  },
  {
   "cell_type": "code",
   "execution_count": 3,
   "metadata": {},
   "outputs": [],
   "source": [
    "class Dog:\n",
    "    # Class attribute\n",
    "    species = 'mammal'\n",
    "    \n",
    "    #Initializer\n",
    "    def __init__(self, name, age, myLegs=4):\n",
    "        self.name = name\n",
    "        self.age = age\n",
    "        self.legs = myLegs"
   ]
  },
  {
   "cell_type": "markdown",
   "metadata": {},
   "source": [
    "Lets create some Dogs"
   ]
  },
  {
   "cell_type": "code",
   "execution_count": 4,
   "metadata": {},
   "outputs": [],
   "source": [
    "blondie = Dog(name='Blondie', age=2)\n",
    "brownie = Dog(name='Blondie', age=2, myLegs=3)"
   ]
  },
  {
   "cell_type": "code",
   "execution_count": 5,
   "metadata": {},
   "outputs": [
    {
     "name": "stdout",
     "output_type": "stream",
     "text": [
      "3\n",
      "4\n"
     ]
    }
   ],
   "source": [
    "print (brownie.legs)\n",
    "print (blondie.legs)"
   ]
  },
  {
   "cell_type": "code",
   "execution_count": 6,
   "metadata": {},
   "outputs": [
    {
     "name": "stdout",
     "output_type": "stream",
     "text": [
      "Waldi\n"
     ]
    }
   ],
   "source": [
    "namesList = ['Theo', 'Waldi', 'Lisa']\n",
    "allMyDogs = [Dog(name = x, age= 4) for x in namesList]\n",
    "print(allMyDogs[1].name)"
   ]
  },
  {
   "cell_type": "code",
   "execution_count": 7,
   "metadata": {},
   "outputs": [
    {
     "name": "stdout",
     "output_type": "stream",
     "text": [
      "Blondie is 2 and Carl is 5.\n"
     ]
    }
   ],
   "source": [
    "blondie = Dog(name='Blondie', age=2)\n",
    "carl = Dog('Carl',5)\n",
    "print(\"{} is {} and {} is {}.\".format(\n",
    "    blondie.name, blondie.age, carl.name, carl.age))"
   ]
  },
  {
   "cell_type": "markdown",
   "metadata": {},
   "source": [
    "Now that we know how to access the values of the objects attributes we can do things."
   ]
  },
  {
   "cell_type": "markdown",
   "metadata": {},
   "source": [
    "## Task 4.1\n",
    "Write a function that recieves a list of Dog-objects and returns the age of the oldest Dog"
   ]
  },
  {
   "cell_type": "code",
   "execution_count": 8,
   "metadata": {},
   "outputs": [
    {
     "name": "stdout",
     "output_type": "stream",
     "text": [
      "The oldest dog is 5 years old\n"
     ]
    }
   ],
   "source": [
    "###Your code here\n",
    "def oldest_dog(dogs):\n",
    "    age_of_oldest = max(list(map(lambda x: x.age,dogs)))\n",
    "    return age_of_oldest\n",
    "\n",
    "age = oldest_dog([blondie,carl])\n",
    "print('The oldest dog is {} years old'.format(age))"
   ]
  },
  {
   "cell_type": "markdown",
   "metadata": {},
   "source": [
    "Now lets give the Dogs things they can do. These methods are called instance methods."
   ]
  },
  {
   "cell_type": "code",
   "execution_count": 9,
   "metadata": {},
   "outputs": [],
   "source": [
    "class Dog:\n",
    "\n",
    "    # Class attribute\n",
    "    species = 'mammal'\n",
    "\n",
    "    # Initializer\n",
    "    def __init__(self, name='', age=0):\n",
    "        self.name = name\n",
    "        self.age = age\n",
    "\n",
    "    # instance method\n",
    "    def description(self):\n",
    "        return \"{} is {} years old\".format(self.name, self.age)\n",
    "\n",
    "    # we can also change object attributes with methods\n",
    "    def birthday(self):\n",
    "        self.age+=1"
   ]
  },
  {
   "cell_type": "code",
   "execution_count": 17,
   "metadata": {},
   "outputs": [
    {
     "name": "stdout",
     "output_type": "stream",
     "text": [
      "Blondie is 2 years old\n",
      "Its Blondies Birthday\n",
      "Blondie is 3 years old\n",
      "Carl is a 5 year old Pug\n"
     ]
    }
   ],
   "source": [
    "blondie = Dog('Blondie', 2)\n",
    "print(blondie.description())\n",
    "print('Its Blondies Birthday')\n",
    "blondie.birthday()\n",
    "print(blondie.description())\n",
    "print(carl.description())"
   ]
  },
  {
   "cell_type": "markdown",
   "metadata": {},
   "source": [
    "We could also code the dogs breed into the Class Dog, but since different breeds have different abilities, sizes and are very different over all we can make subclasses for each breed. \n",
    "These subclasses are still dogs and should inherit all the functionalities of a general dog. \n",
    "\n",
    "Let us create a subclass of Dog with inheritance."
   ]
  },
  {
   "cell_type": "code",
   "execution_count": 11,
   "metadata": {},
   "outputs": [],
   "source": [
    "class german_shepherd(Dog): \n",
    "    breed = 'German Shepherd'\n",
    "    intelligence = 'High'\n",
    "    def herding(self,animal):\n",
    "        return \"The {} does want to herd {}\".format(self.breed,animal)\n",
    "    \n",
    "    def description(self): #we can override class methods \n",
    "        return \"{} is {} year old {}\".format(self.name, self.age, self.breed)\n",
    "    \n",
    "class pug(Dog):\n",
    "    breed = 'Pug'\n",
    "    intelligence = 'average'\n",
    "    speed = 'slow' #subclasses can have more, or different class attributes\n",
    "   \n",
    "    def description(self): #we can override class methods \n",
    "        return \"{} is a {} year old {}\".format(self.name, self.age, self.breed)\n",
    "    \n",
    "    \n",
    "    def run(self):\n",
    "        print('{} is a {} and runs {}'.format(self.name, self.breed, self.speed))\n",
    "        "
   ]
  },
  {
   "cell_type": "markdown",
   "metadata": {},
   "source": [
    "We can now instantiate our beloved dogs with their breed and characteristics "
   ]
  },
  {
   "cell_type": "code",
   "execution_count": 12,
   "metadata": {},
   "outputs": [
    {
     "name": "stdout",
     "output_type": "stream",
     "text": [
      "Blondie is 2 year old German Shepherd and The German Shepherd does want to herd sheep\n",
      "Carl is a Pug and runs slow\n"
     ]
    }
   ],
   "source": [
    "blondie = german_shepherd(name='Blondie', age=2)\n",
    "carl = pug('Carl', 5)\n",
    "print(blondie.description()+' and '+blondie.herding('sheep'))\n",
    "carl.run()"
   ]
  },
  {
   "cell_type": "markdown",
   "metadata": {},
   "source": [
    "## Exercise 4.2\n",
    "Create a subclass of Dog of the breed of your choice.\n",
    "Create a class Pet that holds instances of Dogs and lists all of your imaginary pets. Test your solution by printing descriptions of all dogs."
   ]
  },
  {
   "cell_type": "code",
   "execution_count": 13,
   "metadata": {},
   "outputs": [
    {
     "name": "stdout",
     "output_type": "stream",
     "text": [
      "I have 3 dogs.\n",
      "Blondie is 2.\n",
      "Carl is 5.\n",
      "Morty is 2.\n",
      "Morty is a 2 year old Old German Shepherd of the Tiger variety, which is a pretty rare breed\n",
      "The Old German Shepherd does want to herd everything\n"
     ]
    }
   ],
   "source": [
    "### Your code here\n",
    "class Pets:\n",
    "    \n",
    "    dogs=[]\n",
    "    \n",
    "    def __init__(self, dogs):\n",
    "        self.dogs = dogs\n",
    "        \n",
    "class old_german_shepherd(german_shepherd):\n",
    "    breed = 'Old German Shepherd'\n",
    "    rarity = 'pretty rare'\n",
    "    \n",
    "    def __init__(self, name, age, variety):\n",
    "        self.name = name\n",
    "        self.age = age\n",
    "        self.variety = variety\n",
    "        \n",
    "    def description(self):\n",
    "        return \"{} is a {} year old {} of the {} variety, which is a {} breed\".format(self.name, self.age, self.breed, self.variety, self.rarity)\n",
    "\n",
    "morty = old_german_shepherd('Morty', 2, 'Tiger')\n",
    "my_dogs = [blondie, carl, morty]\n",
    "my_pets = Pets(my_dogs)\n",
    "print(\"I have {} dogs.\".format(len(my_pets.dogs)))\n",
    "for dog in my_pets.dogs:\n",
    "    print(\"{} is {}.\".format(dog.name, dog.age))\n",
    "\n",
    "print(morty.description())\n",
    "print(morty.herding('everything'))"
   ]
  },
  {
   "cell_type": "markdown",
   "metadata": {},
   "source": [
    "## Exercise 4.3\n",
    "\n",
    "Not all dogs are pure bred. So we can also have mixed-breed dogs. \n",
    "Create a mixed breed class that inherits from two breeds. To avoid strange behaviour methods from those two breeds should NOT have the same name, or it should be overwritten in the mixed breed you defined.\n"
   ]
  },
  {
   "cell_type": "code",
   "execution_count": 14,
   "metadata": {},
   "outputs": [],
   "source": [
    "### Your code here\n",
    "class Poodle(Dog):\n",
    "    breed = 'Poodle'\n",
    "    look = 'fabulous'\n",
    "\n",
    "class Labrador(Dog):\n",
    "    breed = 'Labrador'\n",
    "    goodness = 'the best'\n",
    "    \n",
    "    def description(self):\n",
    "        print('{} is a {} years old {} and {} dogs are {}'.format(self.name, self.age, self.breed, self.breed, self.goodness))\n",
    "        \n",
    "class Labradoodle(Poodle, Labrador):\n",
    "    breed = 'Labradoodle'\n",
    "    \n",
    "    def __init__(self, name, age):\n",
    "        self.parent1 = Poodle()\n",
    "        self.parent2 = Labrador()\n",
    "        self.name = name\n",
    "        self.age = age\n",
    "        \n",
    "    def description(self):\n",
    "        print('{} is a {} years old {}'.format(self.name, self.age, self.breed))\n",
    "        print('The {} is a mixed breed of {} and {}'.format(self.breed, self.parent1.breed, self.parent2.breed))\n",
    "        \n",
    "#simple alternative\n",
    "class Mix(Dog):\n",
    "    \n",
    "    def __init__(self, name, age, parent1, parent2, mixname):\n",
    "        self.mixname = mixname\n",
    "        self.parent1 = parent1\n",
    "        self.parent2 = parent2\n",
    "        self.name = name\n",
    "        self.age = age\n",
    "        \n",
    "    def description(self):\n",
    "        print('{} is a {} years old {}'.format(self.name, self.age, self.mixname))\n",
    "        print('The {} is a mixed breed of {} and {}'.format(self.mixname, self.parent1.breed, self.parent2.breed))\n",
    "        "
   ]
  },
  {
   "cell_type": "code",
   "execution_count": 15,
   "metadata": {},
   "outputs": [
    {
     "name": "stdout",
     "output_type": "stream",
     "text": [
      "Flieder is a 2 years old Labrador and Labrador dogs are the best\n",
      "Fritz is a 1 years old Labradoodle\n",
      "The Labradoodle is a mixed breed of Poodle and Labrador\n"
     ]
    }
   ],
   "source": [
    "teddy = Poodle('Teddy', 10)\n",
    "flieder = Labrador('Flieder',2)\n",
    "flieder.description()\n",
    "fritz = Labradoodle('Fritz',1)\n",
    "fritz.description()"
   ]
  },
  {
   "cell_type": "code",
   "execution_count": 16,
   "metadata": {},
   "outputs": [
    {
     "name": "stdout",
     "output_type": "stream",
     "text": [
      "MixDog is a 1 years old Pugapoo\n",
      "The Pugapoo is a mixed breed of Pug and Poodle\n"
     ]
    }
   ],
   "source": [
    "dad = pug()\n",
    "mom = Poodle()\n",
    "\n",
    "child = Mix('MixDog',1,dad,mom,'Pugapoo')\n",
    "child.description()"
   ]
  }
 ],
 "metadata": {
  "kernelspec": {
   "display_name": "Python 3 (ipykernel)",
   "language": "python",
   "name": "python3"
  },
  "language_info": {
   "codemirror_mode": {
    "name": "ipython",
    "version": 3
   },
   "file_extension": ".py",
   "mimetype": "text/x-python",
   "name": "python",
   "nbconvert_exporter": "python",
   "pygments_lexer": "ipython3",
   "version": "3.10.6"
  }
 },
 "nbformat": 4,
 "nbformat_minor": 2
}
