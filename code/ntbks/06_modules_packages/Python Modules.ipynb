{
 "cells": [
  {
   "cell_type": "markdown",
   "metadata": {},
   "source": [
    "# Packages and Modules in Python\n",
    "\n",
    "Packages and modules are a great tool to program reusable and maintainable code.\n",
    "In the next two Notebooks we will learn how to build and use packages.\n",
    "On top this will be embedded in a programming best practice framework so everybody can contribute easily."
   ]
  },
  {
   "cell_type": "markdown",
   "metadata": {},
   "source": [
    "First we want to take a detour and install and use git as a versioning tool.\n",
    "\n",
    "If you are not familiar with the concept go to: https://guides.github.com/activities/hello-world/ and familiarize yourself with the tool.\n",
    "\n",
    "Also since we dont want to invent the wheel again there is a tool to create blueprints of projects. These blueprints are in line with python programming best practices. A useful tool for this is cookiecutter.\n",
    "Go to https://cookiecutter.readthedocs.io/en/latest/ and familiarize with the project.\n",
    "\n",
    "There are also open source testing suites to make your life as a developer easier. One of those suites, that is also natively supported with the cookiecutter project is Travis CI. https://travis-ci.com/ \n",
    "This tool makes it possible to test your code when you have predefined tests so you don't have to do it manually yourself.\n",
    "\n",
    "We can now create a project with a test environment."
   ]
  },
  {
   "cell_type": "markdown",
   "metadata": {},
   "source": [
    "## Exercise 5.1\n",
    "\n",
    "Create a project with cookiecutter with the name: ds_toolkit that contains all your information and push it to a remote repository on github."
   ]
  },
  {
   "cell_type": "markdown",
   "metadata": {},
   "source": [
    "## Exercise 5.2\n",
    "\n",
    "Install your package for your user by typing into your shell ```python setup.py install```"
   ]
  },
  {
   "cell_type": "markdown",
   "metadata": {},
   "source": [
    "## Exercise 5.3\n",
    "\n",
    "Write a function called test() that does stuff.\n",
    "Commit the changes to the git repository.\n",
    "Then install the package again.\n",
    "After the installation is complete import this function from the package and execute it to test if it works."
   ]
  },
  {
   "cell_type": "code",
   "execution_count": 3,
   "metadata": {},
   "outputs": [
    {
     "name": "stdout",
     "output_type": "stream",
     "text": [
      "test\n"
     ]
    }
   ],
   "source": [
    "### Your code here\n",
    "#from ds_toolkit.io import test\n",
    "import ds_toolkit.ds_toolkit as tool\n",
    "tool.test()\n",
    "#import ds_toolkit.ds_toolkit as tool\n",
    "#tool.test()\n"
   ]
  },
  {
   "cell_type": "markdown",
   "metadata": {},
   "source": [
    "## Exercise 5.4\n",
    "\n",
    "Begin working on next notebooks project for a more complex package that can actually do useful stuff."
   ]
  }
 ],
 "metadata": {
  "kernelspec": {
   "display_name": "Python 3 (ipykernel)",
   "language": "python",
   "name": "python3"
  },
  "language_info": {
   "codemirror_mode": {
    "name": "ipython",
    "version": 3
   },
   "file_extension": ".py",
   "mimetype": "text/x-python",
   "name": "python",
   "nbconvert_exporter": "python",
   "pygments_lexer": "ipython3",
   "version": "3.10.6"
  }
 },
 "nbformat": 4,
 "nbformat_minor": 2
}
